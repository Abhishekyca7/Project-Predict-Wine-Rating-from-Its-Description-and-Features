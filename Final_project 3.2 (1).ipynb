{
 "cells": [
  {
   "cell_type": "markdown",
   "metadata": {},
   "source": [
    "# Project: Predict Wine Rating from Its Description and Features\n",
    "\n",
    " Abhishek Kumar, Agnes Peng, Robert Zhao"
   ]
  },
  {
   "cell_type": "markdown",
   "metadata": {},
   "source": [
    "## 1. Background & Motivation\n",
    "\n",
    "A liqour chain CEO has decided to improve overall quality of the wine they are sourcing so as to increase customer satisfactory to boost sales. To reach this goal, the chain wants to understand the factors associated with the wine, as well as how wine reviews are associated with wine bottles. The chain is particularly interested in those wine associated with excellent and terrible reviews so that they could pick particular ones with high rating to market and avoid sourcing from the unfavourable wine. They have collected a 150,000-row wine dataset ([Kaggle: Wine Review](https://www.kaggle.com/zynicide/wine-reviews)) including information on wine origin, title, variety, designation, points(rating), price, tasters' personal information. \n",
    "\n",
    "\n",
    "### Business and Statistical Questions\n",
    "**Business Question**: How to pick out favourable wine based on its description and features so that the wine chain could market upon? \n",
    "\n",
    "**Statistical Question**: What would be an appropriate machine learning model with relatively good performance in predicting wine rating from the existing wine dataset? What are the labels and target for our machine learning model? \n",
    "\n",
    "In addition, if an explanatory model could be developed, to what degree the model could be trusted?\n",
    "\n",
    "\n",
    "- Candidate Models: Dummy Classifier, Logistic Regression, Naive Bayes\n",
    "- Possible Labels, or `X`: `country`,`description`, `designation`,`price`, `province`,`region_1`,`region_2`, `variety`,`winery` \n",
    "- Target, or `y`: `points`\n",
    "\n",
    "**Limiataion**:  The model might not capture the full sensitiveness of the taster/customer mood, as we do not have the data about the age of wines, which is an important parameter in the wine industry. The taster/customer might have given the reviews to aged wined for the same winery and region but since we do not have the data we might not be able to differentiate between the aged and latest wines of similar winery while developing the model."
   ]
  },
  {
   "cell_type": "code",
   "execution_count": 1,
   "metadata": {},
   "outputs": [
    {
     "name": "stdout",
     "output_type": "stream",
     "text": [
      "Imported AutoViz_Class version: 0.0.81. Call using:\n",
      "    from autoviz.AutoViz_Class import AutoViz_Class\n",
      "    AV = AutoViz_Class()\n",
      "    AV.AutoViz(filename, sep=',', depVar='', dfte=None, header=0, verbose=0,\n",
      "                            lowess=False,chart_format='svg',max_rows_analyzed=150000,max_cols_analyzed=30)\n",
      "Note: verbose=0 or 1 generates charts and displays them in your local Jupyter notebook.\n",
      "      verbose=2 saves plots in your local machine under AutoViz_Plots directory and does not display charts.\n"
     ]
    }
   ],
   "source": [
    "# Import libraries\n",
    "from hashlib import sha1\n",
    "\n",
    "import matplotlib.pyplot as plt\n",
    "import numpy as np\n",
    "import pandas as pd\n",
    "import altair as alt\n",
    "alt.data_transformers.disable_max_rows()\n",
    "\n",
    "pd.set_option(\"display.max_colwidth\", 200)\n",
    "import seaborn as sns\n",
    "from pandas_profiling import ProfileReport\n",
    "from autoviz.AutoViz_Class import AutoViz_Class\n",
    "from sklearn.dummy import DummyClassifier\n",
    "from sklearn.impute import SimpleImputer\n",
    "from sklearn.model_selection import cross_val_score, cross_validate, train_test_split\n",
    "from sklearn.pipeline import Pipeline, make_pipeline\n",
    "from sklearn.model_selection import GridSearchCV, RandomizedSearchCV\n",
    "from sklearn.preprocessing import OneHotEncoder, StandardScaler, MinMaxScaler\n",
    "from sklearn.svm import SVC\n",
    "from sklearn.linear_model import LogisticRegression\n",
    "from sklearn.feature_extraction.text import CountVectorizer\n",
    "from sklearn.metrics import plot_confusion_matrix, classification_report\n",
    "from sklearn.metrics import accuracy_score, precision_score, recall_score, f1_score\n",
    "from sklearn.compose import make_column_transformer\n",
    "from sklearn.naive_bayes import MultinomialNB\n",
    "from scipy.stats import lognorm, loguniform, randint\n",
    "from sklearn.metrics import confusion_matrix\n",
    "from IPython.display import display_html \n",
    "\n",
    "from sklearn.metrics import f1_score, precision_score, recall_score\n",
    "from sklearn.metrics import make_scorer"
   ]
  },
  {
   "cell_type": "code",
   "execution_count": 4,
   "metadata": {},
   "outputs": [],
   "source": [
    "%matplotlib inline"
   ]
  },
  {
   "cell_type": "markdown",
   "metadata": {},
   "source": [
    "#  2. Exploratoary Data Analysis (EDA)."
   ]
  },
  {
   "cell_type": "markdown",
   "metadata": {},
   "source": [
    "### 2.0.1 Loading Data"
   ]
  },
  {
   "cell_type": "code",
   "execution_count": 3,
   "metadata": {},
   "outputs": [
    {
     "data": {
      "text/html": [
       "<div>\n",
       "<style scoped>\n",
       "    .dataframe tbody tr th:only-of-type {\n",
       "        vertical-align: middle;\n",
       "    }\n",
       "\n",
       "    .dataframe tbody tr th {\n",
       "        vertical-align: top;\n",
       "    }\n",
       "\n",
       "    .dataframe thead th {\n",
       "        text-align: right;\n",
       "    }\n",
       "</style>\n",
       "<table border=\"1\" class=\"dataframe\">\n",
       "  <thead>\n",
       "    <tr style=\"text-align: right;\">\n",
       "      <th></th>\n",
       "      <th>country</th>\n",
       "      <th>description</th>\n",
       "      <th>designation</th>\n",
       "      <th>points</th>\n",
       "      <th>price</th>\n",
       "      <th>province</th>\n",
       "      <th>region_1</th>\n",
       "      <th>region_2</th>\n",
       "      <th>variety</th>\n",
       "      <th>winery</th>\n",
       "    </tr>\n",
       "  </thead>\n",
       "  <tbody>\n",
       "    <tr>\n",
       "      <th>0</th>\n",
       "      <td>US</td>\n",
       "      <td>This tremendous 100% varietal wine hails from ...</td>\n",
       "      <td>Martha's Vineyard</td>\n",
       "      <td>96</td>\n",
       "      <td>235.0</td>\n",
       "      <td>California</td>\n",
       "      <td>Napa Valley</td>\n",
       "      <td>Napa</td>\n",
       "      <td>Cabernet Sauvignon</td>\n",
       "      <td>Heitz</td>\n",
       "    </tr>\n",
       "    <tr>\n",
       "      <th>1</th>\n",
       "      <td>Spain</td>\n",
       "      <td>Ripe aromas of fig, blackberry and cassis are ...</td>\n",
       "      <td>Carodorum Selección Especial Reserva</td>\n",
       "      <td>96</td>\n",
       "      <td>110.0</td>\n",
       "      <td>Northern Spain</td>\n",
       "      <td>Toro</td>\n",
       "      <td>NaN</td>\n",
       "      <td>Tinta de Toro</td>\n",
       "      <td>Bodega Carmen Rodríguez</td>\n",
       "    </tr>\n",
       "    <tr>\n",
       "      <th>2</th>\n",
       "      <td>US</td>\n",
       "      <td>Mac Watson honors the memory of a wine once ma...</td>\n",
       "      <td>Special Selected Late Harvest</td>\n",
       "      <td>96</td>\n",
       "      <td>90.0</td>\n",
       "      <td>California</td>\n",
       "      <td>Knights Valley</td>\n",
       "      <td>Sonoma</td>\n",
       "      <td>Sauvignon Blanc</td>\n",
       "      <td>Macauley</td>\n",
       "    </tr>\n",
       "    <tr>\n",
       "      <th>3</th>\n",
       "      <td>US</td>\n",
       "      <td>This spent 20 months in 30% new French oak, an...</td>\n",
       "      <td>Reserve</td>\n",
       "      <td>96</td>\n",
       "      <td>65.0</td>\n",
       "      <td>Oregon</td>\n",
       "      <td>Willamette Valley</td>\n",
       "      <td>Willamette Valley</td>\n",
       "      <td>Pinot Noir</td>\n",
       "      <td>Ponzi</td>\n",
       "    </tr>\n",
       "    <tr>\n",
       "      <th>4</th>\n",
       "      <td>France</td>\n",
       "      <td>This is the top wine from La Bégude, named aft...</td>\n",
       "      <td>La Brûlade</td>\n",
       "      <td>95</td>\n",
       "      <td>66.0</td>\n",
       "      <td>Provence</td>\n",
       "      <td>Bandol</td>\n",
       "      <td>NaN</td>\n",
       "      <td>Provence red blend</td>\n",
       "      <td>Domaine de la Bégude</td>\n",
       "    </tr>\n",
       "    <tr>\n",
       "      <th>...</th>\n",
       "      <td>...</td>\n",
       "      <td>...</td>\n",
       "      <td>...</td>\n",
       "      <td>...</td>\n",
       "      <td>...</td>\n",
       "      <td>...</td>\n",
       "      <td>...</td>\n",
       "      <td>...</td>\n",
       "      <td>...</td>\n",
       "      <td>...</td>\n",
       "    </tr>\n",
       "    <tr>\n",
       "      <th>150925</th>\n",
       "      <td>Italy</td>\n",
       "      <td>Many people feel Fiano represents southern Ita...</td>\n",
       "      <td>NaN</td>\n",
       "      <td>91</td>\n",
       "      <td>20.0</td>\n",
       "      <td>Southern Italy</td>\n",
       "      <td>Fiano di Avellino</td>\n",
       "      <td>NaN</td>\n",
       "      <td>White Blend</td>\n",
       "      <td>Feudi di San Gregorio</td>\n",
       "    </tr>\n",
       "    <tr>\n",
       "      <th>150926</th>\n",
       "      <td>France</td>\n",
       "      <td>Offers an intriguing nose with ginger, lime an...</td>\n",
       "      <td>Cuvée Prestige</td>\n",
       "      <td>91</td>\n",
       "      <td>27.0</td>\n",
       "      <td>Champagne</td>\n",
       "      <td>Champagne</td>\n",
       "      <td>NaN</td>\n",
       "      <td>Champagne Blend</td>\n",
       "      <td>H.Germain</td>\n",
       "    </tr>\n",
       "    <tr>\n",
       "      <th>150927</th>\n",
       "      <td>Italy</td>\n",
       "      <td>This classic example comes from a cru vineyard...</td>\n",
       "      <td>Terre di Dora</td>\n",
       "      <td>91</td>\n",
       "      <td>20.0</td>\n",
       "      <td>Southern Italy</td>\n",
       "      <td>Fiano di Avellino</td>\n",
       "      <td>NaN</td>\n",
       "      <td>White Blend</td>\n",
       "      <td>Terredora</td>\n",
       "    </tr>\n",
       "    <tr>\n",
       "      <th>150928</th>\n",
       "      <td>France</td>\n",
       "      <td>A perfect salmon shade, with scents of peaches...</td>\n",
       "      <td>Grand Brut Rosé</td>\n",
       "      <td>90</td>\n",
       "      <td>52.0</td>\n",
       "      <td>Champagne</td>\n",
       "      <td>Champagne</td>\n",
       "      <td>NaN</td>\n",
       "      <td>Champagne Blend</td>\n",
       "      <td>Gosset</td>\n",
       "    </tr>\n",
       "    <tr>\n",
       "      <th>150929</th>\n",
       "      <td>Italy</td>\n",
       "      <td>More Pinot Grigios should taste like this. A r...</td>\n",
       "      <td>NaN</td>\n",
       "      <td>90</td>\n",
       "      <td>15.0</td>\n",
       "      <td>Northeastern Italy</td>\n",
       "      <td>Alto Adige</td>\n",
       "      <td>NaN</td>\n",
       "      <td>Pinot Grigio</td>\n",
       "      <td>Alois Lageder</td>\n",
       "    </tr>\n",
       "  </tbody>\n",
       "</table>\n",
       "<p>150930 rows × 10 columns</p>\n",
       "</div>"
      ],
      "text/plain": [
       "       country                                        description  \\\n",
       "0           US  This tremendous 100% varietal wine hails from ...   \n",
       "1        Spain  Ripe aromas of fig, blackberry and cassis are ...   \n",
       "2           US  Mac Watson honors the memory of a wine once ma...   \n",
       "3           US  This spent 20 months in 30% new French oak, an...   \n",
       "4       France  This is the top wine from La Bégude, named aft...   \n",
       "...        ...                                                ...   \n",
       "150925   Italy  Many people feel Fiano represents southern Ita...   \n",
       "150926  France  Offers an intriguing nose with ginger, lime an...   \n",
       "150927   Italy  This classic example comes from a cru vineyard...   \n",
       "150928  France  A perfect salmon shade, with scents of peaches...   \n",
       "150929   Italy  More Pinot Grigios should taste like this. A r...   \n",
       "\n",
       "                                 designation  points  price  \\\n",
       "0                          Martha's Vineyard      96  235.0   \n",
       "1       Carodorum Selección Especial Reserva      96  110.0   \n",
       "2              Special Selected Late Harvest      96   90.0   \n",
       "3                                    Reserve      96   65.0   \n",
       "4                                 La Brûlade      95   66.0   \n",
       "...                                      ...     ...    ...   \n",
       "150925                                   NaN      91   20.0   \n",
       "150926                        Cuvée Prestige      91   27.0   \n",
       "150927                         Terre di Dora      91   20.0   \n",
       "150928                       Grand Brut Rosé      90   52.0   \n",
       "150929                                   NaN      90   15.0   \n",
       "\n",
       "                  province           region_1           region_2  \\\n",
       "0               California        Napa Valley               Napa   \n",
       "1           Northern Spain               Toro                NaN   \n",
       "2               California     Knights Valley             Sonoma   \n",
       "3                   Oregon  Willamette Valley  Willamette Valley   \n",
       "4                 Provence             Bandol                NaN   \n",
       "...                    ...                ...                ...   \n",
       "150925      Southern Italy  Fiano di Avellino                NaN   \n",
       "150926           Champagne          Champagne                NaN   \n",
       "150927      Southern Italy  Fiano di Avellino                NaN   \n",
       "150928           Champagne          Champagne                NaN   \n",
       "150929  Northeastern Italy         Alto Adige                NaN   \n",
       "\n",
       "                   variety                   winery  \n",
       "0       Cabernet Sauvignon                    Heitz  \n",
       "1            Tinta de Toro  Bodega Carmen Rodríguez  \n",
       "2          Sauvignon Blanc                 Macauley  \n",
       "3               Pinot Noir                    Ponzi  \n",
       "4       Provence red blend     Domaine de la Bégude  \n",
       "...                    ...                      ...  \n",
       "150925         White Blend    Feudi di San Gregorio  \n",
       "150926     Champagne Blend                H.Germain  \n",
       "150927         White Blend                Terredora  \n",
       "150928     Champagne Blend                   Gosset  \n",
       "150929        Pinot Grigio            Alois Lageder  \n",
       "\n",
       "[150930 rows x 10 columns]"
      ]
     },
     "execution_count": 3,
     "metadata": {},
     "output_type": "execute_result"
    }
   ],
   "source": [
    "### Loading the the wine data - Please have the data file in the directory. \n",
    "wine_df = pd.read_csv('winemag-data_first150k.csv')\n",
    "del wine_df['Unnamed: 0']\n",
    "wine_df"
   ]
  },
  {
   "cell_type": "markdown",
   "metadata": {},
   "source": [
    "**Country:** Origin country of wine.<br>\n",
    "**Description:** Customer comments/opinion about wine .<br>\n",
    "**Designation:** Information about vineyard.<br>\n",
    "**Points:**  Rating in form of points from winetaseters  <br>\n",
    "**Province:** Province of origination.<br>\n",
    "**Region_1:** Region of origination .<br>\n",
    "**Region_2:** Region 2 , extra details about origination.<br>\n",
    "**Variety:** Grape variety .<br>\n",
    "**Winery:** Producer of Particular wine.<br>\n",
    "\n",
    "*reference: [Wine Rating](https://www.kaggle.com/zynicide/wine-reviews/data?select=winemag-data_first150k.csv)  May 17th, 2021*"
   ]
  },
  {
   "cell_type": "markdown",
   "metadata": {},
   "source": [
    "### 2.0.2 Splitting of dataset \n",
    "split the dataset into the training set and the test set in a 80/20 split."
   ]
  },
  {
   "cell_type": "code",
   "execution_count": 41,
   "metadata": {},
   "outputs": [],
   "source": [
    "# Splitiing the Data\n",
    "train_df, test_df = train_test_split(wine_df, test_size=.2, random_state=77)"
   ]
  },
  {
   "cell_type": "markdown",
   "metadata": {},
   "source": [
    "### 2.1 Info of the training set"
   ]
  },
  {
   "cell_type": "code",
   "execution_count": 4,
   "metadata": {},
   "outputs": [
    {
     "name": "stdout",
     "output_type": "stream",
     "text": [
      "<class 'pandas.core.frame.DataFrame'>\n",
      "Int64Index: 120744 entries, 22523 to 74335\n",
      "Data columns (total 10 columns):\n",
      " #   Column       Non-Null Count   Dtype  \n",
      "---  ------       --------------   -----  \n",
      " 0   country      120739 non-null  object \n",
      " 1   description  120744 non-null  object \n",
      " 2   designation  84174 non-null   object \n",
      " 3   points       120744 non-null  int64  \n",
      " 4   price        109755 non-null  float64\n",
      " 5   province     120739 non-null  object \n",
      " 6   region_1     100742 non-null  object \n",
      " 7   region_2     48611 non-null   object \n",
      " 8   variety      120744 non-null  object \n",
      " 9   winery       120744 non-null  object \n",
      "dtypes: float64(1), int64(1), object(8)\n",
      "memory usage: 10.1+ MB\n"
     ]
    }
   ],
   "source": [
    "train_df.info()"
   ]
  },
  {
   "cell_type": "markdown",
   "metadata": {},
   "source": [
    "- We can see from the plot that we have missing values in some columns, **particularly in `region_2`. So we would drop this column as it has more than 50% of the missing values.**\n",
    "- For remaining columns, We would impute the missing values using the \"constant\" startegy in `SimpleImputer`."
   ]
  },
  {
   "cell_type": "markdown",
   "metadata": {},
   "source": [
    "### 2.2  Variation "
   ]
  },
  {
   "cell_type": "markdown",
   "metadata": {},
   "source": [
    "To better understand the dataset we decided to understand the variation in pricing and points. Also, we would be looking at how the various factors like province, region and winery affects the price and points in our data. "
   ]
  },
  {
   "cell_type": "code",
   "execution_count": 5,
   "metadata": {},
   "outputs": [
    {
     "data": {
      "text/html": [
       "<div>\n",
       "<style scoped>\n",
       "    .dataframe tbody tr th:only-of-type {\n",
       "        vertical-align: middle;\n",
       "    }\n",
       "\n",
       "    .dataframe tbody tr th {\n",
       "        vertical-align: top;\n",
       "    }\n",
       "\n",
       "    .dataframe thead th {\n",
       "        text-align: right;\n",
       "    }\n",
       "</style>\n",
       "<table border=\"1\" class=\"dataframe\">\n",
       "  <thead>\n",
       "    <tr style=\"text-align: right;\">\n",
       "      <th></th>\n",
       "      <th>points</th>\n",
       "      <th>price</th>\n",
       "    </tr>\n",
       "  </thead>\n",
       "  <tbody>\n",
       "    <tr>\n",
       "      <th>count</th>\n",
       "      <td>120744.000000</td>\n",
       "      <td>109755.000000</td>\n",
       "    </tr>\n",
       "    <tr>\n",
       "      <th>mean</th>\n",
       "      <td>87.889253</td>\n",
       "      <td>33.178060</td>\n",
       "    </tr>\n",
       "    <tr>\n",
       "      <th>std</th>\n",
       "      <td>3.220817</td>\n",
       "      <td>37.088745</td>\n",
       "    </tr>\n",
       "    <tr>\n",
       "      <th>min</th>\n",
       "      <td>80.000000</td>\n",
       "      <td>4.000000</td>\n",
       "    </tr>\n",
       "    <tr>\n",
       "      <th>25%</th>\n",
       "      <td>86.000000</td>\n",
       "      <td>16.000000</td>\n",
       "    </tr>\n",
       "    <tr>\n",
       "      <th>50%</th>\n",
       "      <td>88.000000</td>\n",
       "      <td>24.000000</td>\n",
       "    </tr>\n",
       "    <tr>\n",
       "      <th>75%</th>\n",
       "      <td>90.000000</td>\n",
       "      <td>40.000000</td>\n",
       "    </tr>\n",
       "    <tr>\n",
       "      <th>max</th>\n",
       "      <td>100.000000</td>\n",
       "      <td>2300.000000</td>\n",
       "    </tr>\n",
       "  </tbody>\n",
       "</table>\n",
       "</div>"
      ],
      "text/plain": [
       "              points          price\n",
       "count  120744.000000  109755.000000\n",
       "mean       87.889253      33.178060\n",
       "std         3.220817      37.088745\n",
       "min        80.000000       4.000000\n",
       "25%        86.000000      16.000000\n",
       "50%        88.000000      24.000000\n",
       "75%        90.000000      40.000000\n",
       "max       100.000000    2300.000000"
      ]
     },
     "execution_count": 5,
     "metadata": {},
     "output_type": "execute_result"
    }
   ],
   "source": [
    "# Describing the Train data\n",
    "train_df.describe()"
   ]
  },
  {
   "cell_type": "code",
   "execution_count": 6,
   "metadata": {},
   "outputs": [
    {
     "data": {
      "text/html": [
       "<style  type=\"text/css\" >\n",
       "</style><table id=\"T_83a1e021_bdf0_11eb_9bf5_1cbfc00d2620\" style='display:inline'><caption>Deviation Based on winery</caption><thead>    <tr>        <th class=\"blank level0\" ></th>        <th class=\"col_heading level0 col0\" >points</th>        <th class=\"col_heading level0 col1\" >price</th>    </tr>    <tr>        <th class=\"index_name level0\" >winery</th>        <th class=\"blank\" ></th>        <th class=\"blank\" ></th>    </tr></thead><tbody>\n",
       "                <tr>\n",
       "                        <th id=\"T_83a1e021_bdf0_11eb_9bf5_1cbfc00d2620level0_row0\" class=\"row_heading level0 row0\" >Ancien</th>\n",
       "                        <td id=\"T_83a1e021_bdf0_11eb_9bf5_1cbfc00d2620row0_col0\" class=\"data row0 col0\" >7.071068</td>\n",
       "                        <td id=\"T_83a1e021_bdf0_11eb_9bf5_1cbfc00d2620row0_col1\" class=\"data row0 col1\" >9.192388</td>\n",
       "            </tr>\n",
       "            <tr>\n",
       "                        <th id=\"T_83a1e021_bdf0_11eb_9bf5_1cbfc00d2620level0_row1\" class=\"row_heading level0 row1\" >Sirius</th>\n",
       "                        <td id=\"T_83a1e021_bdf0_11eb_9bf5_1cbfc00d2620row1_col0\" class=\"data row1 col0\" >7.071068</td>\n",
       "                        <td id=\"T_83a1e021_bdf0_11eb_9bf5_1cbfc00d2620row1_col1\" class=\"data row1 col1\" >nan</td>\n",
       "            </tr>\n",
       "            <tr>\n",
       "                        <th id=\"T_83a1e021_bdf0_11eb_9bf5_1cbfc00d2620level0_row2\" class=\"row_heading level0 row2\" >Talmage</th>\n",
       "                        <td id=\"T_83a1e021_bdf0_11eb_9bf5_1cbfc00d2620row2_col0\" class=\"data row2 col0\" >7.071068</td>\n",
       "                        <td id=\"T_83a1e021_bdf0_11eb_9bf5_1cbfc00d2620row2_col1\" class=\"data row2 col1\" >5.656854</td>\n",
       "            </tr>\n",
       "            <tr>\n",
       "                        <th id=\"T_83a1e021_bdf0_11eb_9bf5_1cbfc00d2620level0_row3\" class=\"row_heading level0 row3\" >Château Mazeyres</th>\n",
       "                        <td id=\"T_83a1e021_bdf0_11eb_9bf5_1cbfc00d2620row3_col0\" class=\"data row3 col0\" >6.363961</td>\n",
       "                        <td id=\"T_83a1e021_bdf0_11eb_9bf5_1cbfc00d2620row3_col1\" class=\"data row3 col1\" >nan</td>\n",
       "            </tr>\n",
       "            <tr>\n",
       "                        <th id=\"T_83a1e021_bdf0_11eb_9bf5_1cbfc00d2620level0_row4\" class=\"row_heading level0 row4\" >Illumination</th>\n",
       "                        <td id=\"T_83a1e021_bdf0_11eb_9bf5_1cbfc00d2620row4_col0\" class=\"data row4 col0\" >6.363961</td>\n",
       "                        <td id=\"T_83a1e021_bdf0_11eb_9bf5_1cbfc00d2620row4_col1\" class=\"data row4 col1\" >0.000000</td>\n",
       "            </tr>\n",
       "            <tr>\n",
       "                        <th id=\"T_83a1e021_bdf0_11eb_9bf5_1cbfc00d2620level0_row5\" class=\"row_heading level0 row5\" >Priest Ranch</th>\n",
       "                        <td id=\"T_83a1e021_bdf0_11eb_9bf5_1cbfc00d2620row5_col0\" class=\"data row5 col0\" >6.363961</td>\n",
       "                        <td id=\"T_83a1e021_bdf0_11eb_9bf5_1cbfc00d2620row5_col1\" class=\"data row5 col1\" >16.970563</td>\n",
       "            </tr>\n",
       "            <tr>\n",
       "                        <th id=\"T_83a1e021_bdf0_11eb_9bf5_1cbfc00d2620level0_row6\" class=\"row_heading level0 row6\" >Temple Bruer</th>\n",
       "                        <td id=\"T_83a1e021_bdf0_11eb_9bf5_1cbfc00d2620row6_col0\" class=\"data row6 col0\" >6.363961</td>\n",
       "                        <td id=\"T_83a1e021_bdf0_11eb_9bf5_1cbfc00d2620row6_col1\" class=\"data row6 col1\" >0.707107</td>\n",
       "            </tr>\n",
       "            <tr>\n",
       "                        <th id=\"T_83a1e021_bdf0_11eb_9bf5_1cbfc00d2620level0_row7\" class=\"row_heading level0 row7\" >Vinifera</th>\n",
       "                        <td id=\"T_83a1e021_bdf0_11eb_9bf5_1cbfc00d2620row7_col0\" class=\"data row7 col0\" >6.363961</td>\n",
       "                        <td id=\"T_83a1e021_bdf0_11eb_9bf5_1cbfc00d2620row7_col1\" class=\"data row7 col1\" >1.414214</td>\n",
       "            </tr>\n",
       "            <tr>\n",
       "                        <th id=\"T_83a1e021_bdf0_11eb_9bf5_1cbfc00d2620level0_row8\" class=\"row_heading level0 row8\" >Whitcraft</th>\n",
       "                        <td id=\"T_83a1e021_bdf0_11eb_9bf5_1cbfc00d2620row8_col0\" class=\"data row8 col0\" >6.363961</td>\n",
       "                        <td id=\"T_83a1e021_bdf0_11eb_9bf5_1cbfc00d2620row8_col1\" class=\"data row8 col1\" >nan</td>\n",
       "            </tr>\n",
       "            <tr>\n",
       "                        <th id=\"T_83a1e021_bdf0_11eb_9bf5_1cbfc00d2620level0_row9\" class=\"row_heading level0 row9\" >Black Coyote</th>\n",
       "                        <td id=\"T_83a1e021_bdf0_11eb_9bf5_1cbfc00d2620row9_col0\" class=\"data row9 col0\" >6.000000</td>\n",
       "                        <td id=\"T_83a1e021_bdf0_11eb_9bf5_1cbfc00d2620row9_col1\" class=\"data row9 col1\" >36.197376</td>\n",
       "            </tr>\n",
       "    </tbody></table><style  type=\"text/css\" >\n",
       "</style><table id=\"T_83a20731_bdf0_11eb_8cce_1cbfc00d2620\" style='display:inline'><caption>Deviaton Based on variety</caption><thead>    <tr>        <th class=\"blank level0\" ></th>        <th class=\"col_heading level0 col0\" >points</th>        <th class=\"col_heading level0 col1\" >price</th>    </tr>    <tr>        <th class=\"index_name level0\" >variety</th>        <th class=\"blank\" ></th>        <th class=\"blank\" ></th>    </tr></thead><tbody>\n",
       "                <tr>\n",
       "                        <th id=\"T_83a20731_bdf0_11eb_8cce_1cbfc00d2620level0_row0\" class=\"row_heading level0 row0\" >Roussanne-Marsanne</th>\n",
       "                        <td id=\"T_83a20731_bdf0_11eb_8cce_1cbfc00d2620row0_col0\" class=\"data row0 col0\" >5.656854</td>\n",
       "                        <td id=\"T_83a20731_bdf0_11eb_8cce_1cbfc00d2620row0_col1\" class=\"data row0 col1\" >9.192388</td>\n",
       "            </tr>\n",
       "            <tr>\n",
       "                        <th id=\"T_83a20731_bdf0_11eb_8cce_1cbfc00d2620level0_row1\" class=\"row_heading level0 row1\" >Sangiovese-Syrah</th>\n",
       "                        <td id=\"T_83a20731_bdf0_11eb_8cce_1cbfc00d2620row1_col0\" class=\"data row1 col0\" >5.196152</td>\n",
       "                        <td id=\"T_83a20731_bdf0_11eb_8cce_1cbfc00d2620row1_col1\" class=\"data row1 col1\" >3.464102</td>\n",
       "            </tr>\n",
       "            <tr>\n",
       "                        <th id=\"T_83a20731_bdf0_11eb_8cce_1cbfc00d2620level0_row2\" class=\"row_heading level0 row2\" >Xinisteri</th>\n",
       "                        <td id=\"T_83a20731_bdf0_11eb_8cce_1cbfc00d2620row2_col0\" class=\"data row2 col0\" >5.196152</td>\n",
       "                        <td id=\"T_83a20731_bdf0_11eb_8cce_1cbfc00d2620row2_col1\" class=\"data row2 col1\" >5.773503</td>\n",
       "            </tr>\n",
       "            <tr>\n",
       "                        <th id=\"T_83a20731_bdf0_11eb_8cce_1cbfc00d2620level0_row3\" class=\"row_heading level0 row3\" >Malbec-Bonarda</th>\n",
       "                        <td id=\"T_83a20731_bdf0_11eb_8cce_1cbfc00d2620row3_col0\" class=\"data row3 col0\" >4.949747</td>\n",
       "                        <td id=\"T_83a20731_bdf0_11eb_8cce_1cbfc00d2620row3_col1\" class=\"data row3 col1\" >8.485281</td>\n",
       "            </tr>\n",
       "            <tr>\n",
       "                        <th id=\"T_83a20731_bdf0_11eb_8cce_1cbfc00d2620level0_row4\" class=\"row_heading level0 row4\" >Grenache Blend</th>\n",
       "                        <td id=\"T_83a20731_bdf0_11eb_8cce_1cbfc00d2620row4_col0\" class=\"data row4 col0\" >4.722288</td>\n",
       "                        <td id=\"T_83a20731_bdf0_11eb_8cce_1cbfc00d2620row4_col1\" class=\"data row4 col1\" >21.540659</td>\n",
       "            </tr>\n",
       "            <tr>\n",
       "                        <th id=\"T_83a20731_bdf0_11eb_8cce_1cbfc00d2620level0_row5\" class=\"row_heading level0 row5\" >Vespaiolo</th>\n",
       "                        <td id=\"T_83a20731_bdf0_11eb_8cce_1cbfc00d2620row5_col0\" class=\"data row5 col0\" >4.618802</td>\n",
       "                        <td id=\"T_83a20731_bdf0_11eb_8cce_1cbfc00d2620row5_col1\" class=\"data row5 col1\" >17.320508</td>\n",
       "            </tr>\n",
       "            <tr>\n",
       "                        <th id=\"T_83a20731_bdf0_11eb_8cce_1cbfc00d2620level0_row6\" class=\"row_heading level0 row6\" >Sauvignon Gris</th>\n",
       "                        <td id=\"T_83a20731_bdf0_11eb_8cce_1cbfc00d2620row6_col0\" class=\"data row6 col0\" >4.484541</td>\n",
       "                        <td id=\"T_83a20731_bdf0_11eb_8cce_1cbfc00d2620row6_col1\" class=\"data row6 col1\" >8.992060</td>\n",
       "            </tr>\n",
       "            <tr>\n",
       "                        <th id=\"T_83a20731_bdf0_11eb_8cce_1cbfc00d2620level0_row7\" class=\"row_heading level0 row7\" >Chardonnay-Semillon</th>\n",
       "                        <td id=\"T_83a20731_bdf0_11eb_8cce_1cbfc00d2620row7_col0\" class=\"data row7 col0\" >4.308554</td>\n",
       "                        <td id=\"T_83a20731_bdf0_11eb_8cce_1cbfc00d2620row7_col1\" class=\"data row7 col1\" >4.540725</td>\n",
       "            </tr>\n",
       "            <tr>\n",
       "                        <th id=\"T_83a20731_bdf0_11eb_8cce_1cbfc00d2620level0_row8\" class=\"row_heading level0 row8\" >Muscat Blanc</th>\n",
       "                        <td id=\"T_83a20731_bdf0_11eb_8cce_1cbfc00d2620row8_col0\" class=\"data row8 col0\" >4.269750</td>\n",
       "                        <td id=\"T_83a20731_bdf0_11eb_8cce_1cbfc00d2620row8_col1\" class=\"data row8 col1\" >15.000855</td>\n",
       "            </tr>\n",
       "            <tr>\n",
       "                        <th id=\"T_83a20731_bdf0_11eb_8cce_1cbfc00d2620level0_row9\" class=\"row_heading level0 row9\" >Braucol</th>\n",
       "                        <td id=\"T_83a20731_bdf0_11eb_8cce_1cbfc00d2620row9_col0\" class=\"data row9 col0\" >4.242641</td>\n",
       "                        <td id=\"T_83a20731_bdf0_11eb_8cce_1cbfc00d2620row9_col1\" class=\"data row9 col1\" >8.485281</td>\n",
       "            </tr>\n",
       "    </tbody></table><style  type=\"text/css\" >\n",
       "</style><table id=\"T_83a22e3e_bdf0_11eb_b9c1_1cbfc00d2620\" style='display:inline'><caption>Deviation Based on province</caption><thead>    <tr>        <th class=\"blank level0\" ></th>        <th class=\"col_heading level0 col0\" >points</th>        <th class=\"col_heading level0 col1\" >price</th>    </tr>    <tr>        <th class=\"index_name level0\" >province</th>        <th class=\"blank\" ></th>        <th class=\"blank\" ></th>    </tr></thead><tbody>\n",
       "                <tr>\n",
       "                        <th id=\"T_83a22e3e_bdf0_11eb_b9c1_1cbfc00d2620level0_row0\" class=\"row_heading level0 row0\" >San Antonio de las Minas Valley</th>\n",
       "                        <td id=\"T_83a22e3e_bdf0_11eb_b9c1_1cbfc00d2620row0_col0\" class=\"data row0 col0\" >7.778175</td>\n",
       "                        <td id=\"T_83a22e3e_bdf0_11eb_b9c1_1cbfc00d2620row0_col1\" class=\"data row0 col1\" >21.213203</td>\n",
       "            </tr>\n",
       "            <tr>\n",
       "                        <th id=\"T_83a22e3e_bdf0_11eb_b9c1_1cbfc00d2620level0_row1\" class=\"row_heading level0 row1\" >Tulbagh</th>\n",
       "                        <td id=\"T_83a22e3e_bdf0_11eb_b9c1_1cbfc00d2620row1_col0\" class=\"data row1 col0\" >4.582576</td>\n",
       "                        <td id=\"T_83a22e3e_bdf0_11eb_b9c1_1cbfc00d2620row1_col1\" class=\"data row1 col1\" >30.105371</td>\n",
       "            </tr>\n",
       "            <tr>\n",
       "                        <th id=\"T_83a22e3e_bdf0_11eb_b9c1_1cbfc00d2620level0_row2\" class=\"row_heading level0 row2\" >Vin de Pays d'Imathia</th>\n",
       "                        <td id=\"T_83a22e3e_bdf0_11eb_b9c1_1cbfc00d2620row2_col0\" class=\"data row2 col0\" >4.041452</td>\n",
       "                        <td id=\"T_83a22e3e_bdf0_11eb_b9c1_1cbfc00d2620row2_col1\" class=\"data row2 col1\" >8.660254</td>\n",
       "            </tr>\n",
       "            <tr>\n",
       "                        <th id=\"T_83a22e3e_bdf0_11eb_b9c1_1cbfc00d2620level0_row3\" class=\"row_heading level0 row3\" >Moutere</th>\n",
       "                        <td id=\"T_83a22e3e_bdf0_11eb_b9c1_1cbfc00d2620row3_col0\" class=\"data row3 col0\" >3.785939</td>\n",
       "                        <td id=\"T_83a22e3e_bdf0_11eb_b9c1_1cbfc00d2620row3_col1\" class=\"data row3 col1\" >16.369009</td>\n",
       "            </tr>\n",
       "            <tr>\n",
       "                        <th id=\"T_83a22e3e_bdf0_11eb_b9c1_1cbfc00d2620level0_row4\" class=\"row_heading level0 row4\" >Chile</th>\n",
       "                        <td id=\"T_83a22e3e_bdf0_11eb_b9c1_1cbfc00d2620row4_col0\" class=\"data row4 col0\" >3.692423</td>\n",
       "                        <td id=\"T_83a22e3e_bdf0_11eb_b9c1_1cbfc00d2620row4_col1\" class=\"data row4 col1\" >25.599000</td>\n",
       "            </tr>\n",
       "            <tr>\n",
       "                        <th id=\"T_83a22e3e_bdf0_11eb_b9c1_1cbfc00d2620level0_row5\" class=\"row_heading level0 row5\" >Portugal</th>\n",
       "                        <td id=\"T_83a22e3e_bdf0_11eb_b9c1_1cbfc00d2620row5_col0\" class=\"data row5 col0\" >3.646917</td>\n",
       "                        <td id=\"T_83a22e3e_bdf0_11eb_b9c1_1cbfc00d2620row5_col1\" class=\"data row5 col1\" >31.221787</td>\n",
       "            </tr>\n",
       "            <tr>\n",
       "                        <th id=\"T_83a22e3e_bdf0_11eb_b9c1_1cbfc00d2620level0_row6\" class=\"row_heading level0 row6\" >Sebes</th>\n",
       "                        <td id=\"T_83a22e3e_bdf0_11eb_b9c1_1cbfc00d2620row6_col0\" class=\"data row6 col0\" >3.535534</td>\n",
       "                        <td id=\"T_83a22e3e_bdf0_11eb_b9c1_1cbfc00d2620row6_col1\" class=\"data row6 col1\" >7.071068</td>\n",
       "            </tr>\n",
       "            <tr>\n",
       "                        <th id=\"T_83a22e3e_bdf0_11eb_b9c1_1cbfc00d2620level0_row7\" class=\"row_heading level0 row7\" >California</th>\n",
       "                        <td id=\"T_83a22e3e_bdf0_11eb_b9c1_1cbfc00d2620row7_col0\" class=\"data row7 col0\" >3.531042</td>\n",
       "                        <td id=\"T_83a22e3e_bdf0_11eb_b9c1_1cbfc00d2620row7_col1\" class=\"data row7 col1\" >27.827919</td>\n",
       "            </tr>\n",
       "            <tr>\n",
       "                        <th id=\"T_83a22e3e_bdf0_11eb_b9c1_1cbfc00d2620level0_row8\" class=\"row_heading level0 row8\" >Samson</th>\n",
       "                        <td id=\"T_83a22e3e_bdf0_11eb_b9c1_1cbfc00d2620row8_col0\" class=\"data row8 col0\" >3.477198</td>\n",
       "                        <td id=\"T_83a22e3e_bdf0_11eb_b9c1_1cbfc00d2620row8_col1\" class=\"data row8 col1\" >17.343892</td>\n",
       "            </tr>\n",
       "            <tr>\n",
       "                        <th id=\"T_83a22e3e_bdf0_11eb_b9c1_1cbfc00d2620level0_row9\" class=\"row_heading level0 row9\" >Bordeaux</th>\n",
       "                        <td id=\"T_83a22e3e_bdf0_11eb_b9c1_1cbfc00d2620row9_col0\" class=\"data row9 col0\" >3.450050</td>\n",
       "                        <td id=\"T_83a22e3e_bdf0_11eb_b9c1_1cbfc00d2620row9_col1\" class=\"data row9 col1\" >104.557783</td>\n",
       "            </tr>\n",
       "    </tbody></table>"
      ]
     },
     "metadata": {},
     "output_type": "display_data"
    }
   ],
   "source": [
    "# Group by different categories and see the standard deviation to see how values are impacted\n",
    "\n",
    "x = train_df.groupby(['winery']).std().nlargest(10, 'points')\n",
    "x1= train_df.groupby(['variety']).std().nlargest(10, 'points')\n",
    "x2= train_df.groupby(['province']).std().nlargest(10, 'points')\n",
    "df1_styler = x.style.set_table_attributes(\"style='display:inline'\").set_caption('Deviation Based on winery')\n",
    "df2_styler = x1.style.set_table_attributes(\"style='display:inline'\").set_caption('Deviaton Based on variety')\n",
    "df2_t_styler = x2.style.set_table_attributes(\"style='display:inline'\").set_caption('Deviation Based on province')\n",
    "display_html(df1_styler._repr_html_()+df2_styler._repr_html_() +df2_t_styler._repr_html_(), raw= True)"
   ]
  },
  {
   "cell_type": "code",
   "execution_count": 42,
   "metadata": {},
   "outputs": [
    {
     "data": {
      "image/png": "[encoded data removed]",
      "text/plain": [
       "<Figure size 1080x288 with 2 Axes>"
      ]
     },
     "metadata": {
      "needs_background": "light"
     },
     "output_type": "display_data"
    }
   ],
   "source": [
    "# Visualizng distribution of Points and price \n",
    "train_df.hist(figsize=(15, 4), bins=20, xlabelsize=10, ylabelsize= 10);\n"
   ]
  },
  {
   "cell_type": "markdown",
   "metadata": {},
   "source": [
    "- Average points for wines is around the 87.89, which shows that average rating has been good in most of tasters' opinions. With not much of variation can be seen from the standard deviation.\n",
    "- Average price of the wine is around 33 but the there is huge deviation in the pricing.\n",
    "- From the tables above, we can see that the price of wine is very unevenly distributed compared to the points.\n",
    "- There is very high price deviation for the wines from similar winery, region, and province while the points are not so varying compared to the price.\n",
    "-  Wines produced at same **winery** do not have much of the variation in the points and price, suggesting the winery might be an imporatnt consideration for the cusomter. \n",
    "- Province has major fluctuations in price. For example, Bourdeax has a devaition of more than 104,  which could be due to different types of wines are produced or the quality of the wine is considered superior as compared to the other region."
   ]
  },
  {
   "cell_type": "markdown",
   "metadata": {},
   "source": [
    "### 2.3 Correlation"
   ]
  },
  {
   "cell_type": "code",
   "execution_count": 6,
   "metadata": {},
   "outputs": [
    {
     "data": {
      "text/plain": [
       "<AxesSubplot:>"
      ]
     },
     "execution_count": 6,
     "metadata": {},
     "output_type": "execute_result"
    },
    {
     "data": {
      "image/png": "[encoded data removed]",
      "text/plain": [
       "<Figure size 432x288 with 2 Axes>"
      ]
     },
     "metadata": {
      "needs_background": "light"
     },
     "output_type": "display_data"
    }
   ],
   "source": [
    "# correlation matrix\n",
    "sns.heatmap(wine_df.corr(), annot=True)"
   ]
  },
  {
   "cell_type": "markdown",
   "metadata": {},
   "source": [
    "- Price and points have some degrees of correlation."
   ]
  },
  {
   "cell_type": "markdown",
   "metadata": {},
   "source": [
    "### 2.4 Summary of observations from EDA:\n",
    "- The wine data has 10 columns reperesenting the various parameters related to the wine. \n",
    "- There are only 1 numerical feature and 8 categorical features. We cannot plot the features as we have only one numerical feature.\n",
    "- The categorical feature `region_2` have more than 50% missing values. So, we will drop the column while building our column. \n",
    "- The categorical feature `desgination` have 30% missing values. So, we will impute the frequent values to fill up the colmun in the ratio of frequency. \n",
    "- There is some correlations (0.46) between the price and and our target - points.\n",
    "- The target column has a range from 80 to 100."
   ]
  },
  {
   "cell_type": "markdown",
   "metadata": {},
   "source": [
    "## 3. Method & Results"
   ]
  },
  {
   "cell_type": "markdown",
   "metadata": {},
   "source": [
    "Noting that our target column is composed of integer values from 80 to 100, we thought linear regression would not be the best solution in this case since the liquor store owner simply would like a general idea of the quality of the wine. Instead, linear regression would return too much unnecessary granuality. Therefore, we proceeded with developing a logistic regression with simplified level of points described as followed."
   ]
  },
  {
   "cell_type": "markdown",
   "metadata": {},
   "source": [
    "### 3.1 Data Preprocessing"
   ]
  },
  {
   "cell_type": "markdown",
   "metadata": {},
   "source": [
    "We first preprocessed the target column by classifying its values into 5 levels. Each level is 4 points in length. Level 1 being the lowest while 5 being the highest. The classifying results were stored in a new column called `rating`."
   ]
  },
  {
   "cell_type": "code",
   "execution_count": 9,
   "metadata": {},
   "outputs": [],
   "source": [
    "def rating(x):\n",
    "    if x >= 80 and x < 84:\n",
    "        return 1\n",
    "    elif x >= 84 and x < 88:\n",
    "        return 2\n",
    "    elif x >= 88 and x < 92:\n",
    "        return 3\n",
    "    elif x >= 92 and x < 96:\n",
    "        return 4\n",
    "    else:\n",
    "        return 5"
   ]
  },
  {
   "cell_type": "code",
   "execution_count": 10,
   "metadata": {},
   "outputs": [],
   "source": [
    "train_df['rating'] = train_df['points'].apply(lambda x: rating(x))\n",
    "test_df['rating'] = test_df['points'].apply(lambda x: rating(x))"
   ]
  },
  {
   "cell_type": "markdown",
   "metadata": {},
   "source": [
    "Define the labels and target. Drop the `region_2` column since it contains 50% missing values."
   ]
  },
  {
   "cell_type": "code",
   "execution_count": 11,
   "metadata": {},
   "outputs": [],
   "source": [
    "X_train = train_df.drop(columns=['rating','points','region_2'])\n",
    "y_train = train_df['rating']\n",
    "X_test = test_df.drop(columns=['rating','points','region_2'])\n",
    "y_test = test_df['rating']"
   ]
  },
  {
   "cell_type": "markdown",
   "metadata": {},
   "source": [
    "### 3.2 Baseline Model: Dummy Classifier"
   ]
  },
  {
   "cell_type": "markdown",
   "metadata": {},
   "source": [
    "Build a baseline model with a dummy classifier which classified rating by respecting the training set’s class distribution. It was used to set as a baseline to compare with other models we developed later in the project."
   ]
  },
  {
   "cell_type": "code",
   "execution_count": 12,
   "metadata": {},
   "outputs": [
    {
     "data": {
      "text/html": [
       "<div>\n",
       "<style scoped>\n",
       "    .dataframe tbody tr th:only-of-type {\n",
       "        vertical-align: middle;\n",
       "    }\n",
       "\n",
       "    .dataframe tbody tr th {\n",
       "        vertical-align: top;\n",
       "    }\n",
       "\n",
       "    .dataframe thead th {\n",
       "        text-align: right;\n",
       "    }\n",
       "</style>\n",
       "<table border=\"1\" class=\"dataframe\">\n",
       "  <thead>\n",
       "    <tr style=\"text-align: right;\">\n",
       "      <th></th>\n",
       "      <th>fit_time</th>\n",
       "      <th>score_time</th>\n",
       "      <th>test_accuracy</th>\n",
       "      <th>train_accuracy</th>\n",
       "    </tr>\n",
       "  </thead>\n",
       "  <tbody>\n",
       "    <tr>\n",
       "      <th>0</th>\n",
       "      <td>0.017004</td>\n",
       "      <td>0.004001</td>\n",
       "      <td>0.322829</td>\n",
       "      <td>0.325959</td>\n",
       "    </tr>\n",
       "    <tr>\n",
       "      <th>1</th>\n",
       "      <td>0.018015</td>\n",
       "      <td>0.004001</td>\n",
       "      <td>0.326846</td>\n",
       "      <td>0.321621</td>\n",
       "    </tr>\n",
       "    <tr>\n",
       "      <th>2</th>\n",
       "      <td>0.018004</td>\n",
       "      <td>0.003001</td>\n",
       "      <td>0.326473</td>\n",
       "      <td>0.323081</td>\n",
       "    </tr>\n",
       "    <tr>\n",
       "      <th>3</th>\n",
       "      <td>0.018016</td>\n",
       "      <td>0.003999</td>\n",
       "      <td>0.321960</td>\n",
       "      <td>0.325721</td>\n",
       "    </tr>\n",
       "    <tr>\n",
       "      <th>4</th>\n",
       "      <td>0.017000</td>\n",
       "      <td>0.003997</td>\n",
       "      <td>0.325990</td>\n",
       "      <td>0.322560</td>\n",
       "    </tr>\n",
       "  </tbody>\n",
       "</table>\n",
       "</div>"
      ],
      "text/plain": [
       "   fit_time  score_time  test_accuracy  train_accuracy\n",
       "0  0.017004    0.004001       0.322829        0.325959\n",
       "1  0.018015    0.004001       0.326846        0.321621\n",
       "2  0.018004    0.003001       0.326473        0.323081\n",
       "3  0.018016    0.003999       0.321960        0.325721\n",
       "4  0.017000    0.003997       0.325990        0.322560"
      ]
     },
     "execution_count": 12,
     "metadata": {},
     "output_type": "execute_result"
    }
   ],
   "source": [
    "dummy_cla = DummyClassifier(strategy='stratified')\n",
    "dummy_scores_df = pd.DataFrame(cross_validate(dummy_cla, X_train, y_train, cv = 5,\n",
    "                                              return_train_score=True, scoring=['accuracy']))\n",
    "dummy_scores_df"
   ]
  },
  {
   "cell_type": "code",
   "execution_count": 13,
   "metadata": {},
   "outputs": [
    {
     "data": {
      "text/plain": [
       "fit_time          0.017608\n",
       "score_time        0.003800\n",
       "test_accuracy     0.324819\n",
       "train_accuracy    0.323788\n",
       "dtype: float64"
      ]
     },
     "execution_count": 13,
     "metadata": {},
     "output_type": "execute_result"
    }
   ],
   "source": [
    "dummy_scores_df.mean()"
   ]
  },
  {
   "cell_type": "markdown",
   "metadata": {},
   "source": [
    "As described in the table, the dummy classifier achieved an accuracy around 32% for the training set and the test set."
   ]
  },
  {
   "cell_type": "markdown",
   "metadata": {},
   "source": [
    "### 3.3 Explanatory Model: Logistic Regression\n",
    "\n",
    "Since we are dealing with categorical data as target, we fit an explanatory model with `LogisticRegression`.\n",
    "\n",
    "#### 3.3.1 Full Model: using all the features as explanatory variables\n",
    "\n",
    "This full model is useful when the business has compatible computational power and wish to utilize all the information in the dataset except `region_2` which has too much missing values."
   ]
  },
  {
   "cell_type": "code",
   "execution_count": 14,
   "metadata": {},
   "outputs": [],
   "source": [
    "# seprating the numerical, categorical, and text features\n",
    "numeric_features = [ \"price\" ]\n",
    "categorical_features = [\"country\", \"designation\", \"province\",\"region_1\", \"winery\", \"variety\"]\n",
    "text_feature = \"description\""
   ]
  },
  {
   "cell_type": "markdown",
   "metadata": {},
   "source": [
    "Under this model, numeric features would go through a preprocessor with `SimpleImputer` and `MinMaxScaler`. Categorical features would go through a preprocessor with `SimpleImputer` and `OneHotEncoder`. Text feature would go through the `CountVectorizer`."
   ]
  },
  {
   "cell_type": "code",
   "execution_count": 15,
   "metadata": {},
   "outputs": [],
   "source": [
    "numeric_pipe = make_pipeline(SimpleImputer(strategy='median'),\n",
    "                            MinMaxScaler())\n",
    "categoric_pipe = make_pipeline(SimpleImputer(strategy=\"constant\", fill_value=\"missing\"),\n",
    "                            OneHotEncoder(dtype=int, handle_unknown=\"ignore\"))\n",
    "text_pipe = make_pipeline(CountVectorizer())\n",
    "\n",
    "preprocessor = make_column_transformer((numeric_pipe, numeric_features),(text_pipe, text_feature),\n",
    "                                       (categoric_pipe, categorical_features))\n",
    "\n",
    "main_pipe = make_pipeline(preprocessor,\n",
    "    (LogisticRegression(max_iter=1000, class_weight=\"balanced\")))"
   ]
  },
  {
   "cell_type": "markdown",
   "metadata": {},
   "source": [
    "**Hyperparameter tuning**\n",
    "\n",
    "Randomized search for the best model hyperparameter in most efficient way. We chose number of iterations to 10 and 5-fold cross validation for best trade off between runtime and quality."
   ]
  },
  {
   "cell_type": "code",
   "execution_count": 16,
   "metadata": {},
   "outputs": [],
   "source": [
    "param_grid = {\n",
    "    \"columntransformer__pipeline-2__countvectorizer__max_features\": randint(10, 10000),\n",
    "    \"logisticregression__C\": loguniform(0.01, 100), \n",
    "}\n",
    "\n",
    "random_search_1 = RandomizedSearchCV(main_pipe, param_grid, cv=5, verbose=2, return_train_score=True, n_iter=10, n_jobs=-1, scoring='accuracy')"
   ]
  },
  {
   "cell_type": "code",
   "execution_count": 17,
   "metadata": {},
   "outputs": [
    {
     "name": "stdout",
     "output_type": "stream",
     "text": [
      "Fitting 5 folds for each of 10 candidates, totalling 50 fits\n"
     ]
    },
    {
     "name": "stderr",
     "output_type": "stream",
     "text": [
      "[Parallel(n_jobs=-1)]: Using backend LokyBackend with 6 concurrent workers.\n",
      "[Parallel(n_jobs=-1)]: Done  29 tasks      | elapsed: 12.1min\n",
      "[Parallel(n_jobs=-1)]: Done  50 out of  50 | elapsed: 20.7min finished\n"
     ]
    },
    {
     "data": {
      "text/plain": [
       "RandomizedSearchCV(cv=5,\n",
       "                   estimator=Pipeline(steps=[('columntransformer',\n",
       "                                              ColumnTransformer(transformers=[('pipeline-1',\n",
       "                                                                               Pipeline(steps=[('simpleimputer',\n",
       "                                                                                                SimpleImputer(strategy='median')),\n",
       "                                                                                               ('minmaxscaler',\n",
       "                                                                                                MinMaxScaler())]),\n",
       "                                                                               ['price']),\n",
       "                                                                              ('pipeline-2',\n",
       "                                                                               Pipeline(steps=[('countvectorizer',\n",
       "                                                                                                CountVectorizer())]),\n",
       "                                                                               'description'),\n",
       "                                                                              ('pipeline-3',\n",
       "                                                                               Pipeline(steps=[('simp...\n",
       "                                              LogisticRegression(class_weight='balanced',\n",
       "                                                                 max_iter=1000))]),\n",
       "                   n_jobs=-1,\n",
       "                   param_distributions={'columntransformer__pipeline-2__countvectorizer__max_features': <scipy.stats._distn_infrastructure.rv_frozen object at 0x000001D2446388E0>,\n",
       "                                        'logisticregression__C': <scipy.stats._distn_infrastructure.rv_frozen object at 0x000001D2446531F0>},\n",
       "                   return_train_score=True, scoring='accuracy', verbose=2)"
      ]
     },
     "execution_count": 17,
     "metadata": {},
     "output_type": "execute_result"
    }
   ],
   "source": [
    "random_search_1.fit(X_train, y_train)"
   ]
  },
  {
   "cell_type": "code",
   "execution_count": 18,
   "metadata": {},
   "outputs": [
    {
     "data": {
      "text/plain": [
       "Pipeline(steps=[('columntransformer',\n",
       "                 ColumnTransformer(transformers=[('pipeline-1',\n",
       "                                                  Pipeline(steps=[('simpleimputer',\n",
       "                                                                   SimpleImputer(strategy='median')),\n",
       "                                                                  ('minmaxscaler',\n",
       "                                                                   MinMaxScaler())]),\n",
       "                                                  ['price']),\n",
       "                                                 ('pipeline-2',\n",
       "                                                  Pipeline(steps=[('countvectorizer',\n",
       "                                                                   CountVectorizer(max_features=9646))]),\n",
       "                                                  'description'),\n",
       "                                                 ('pipeline-3',\n",
       "                                                  Pipeline(steps=[('simpleimputer',\n",
       "                                                                   SimpleImputer(fill_value='missing',\n",
       "                                                                                 strategy='constant')),\n",
       "                                                                  ('onehotencoder',\n",
       "                                                                   OneHotEncoder(dtype=<class 'int'>,\n",
       "                                                                                 handle_unknown='ignore'))]),\n",
       "                                                  ['country', 'designation',\n",
       "                                                   'province', 'region_1',\n",
       "                                                   'winery', 'variety'])])),\n",
       "                ('logisticregression',\n",
       "                 LogisticRegression(C=22.109436375731374,\n",
       "                                    class_weight='balanced', max_iter=1000))])"
      ]
     },
     "execution_count": 18,
     "metadata": {},
     "output_type": "execute_result"
    }
   ],
   "source": [
    "best_estimator = random_search_1.best_estimator_\n",
    "best_estimator"
   ]
  },
  {
   "cell_type": "markdown",
   "metadata": {},
   "source": [
    "We found the best hyperparameters to be `max_features = 9848` and `C = 10.130782765490979` .\n",
    "\n",
    "**Model accuracy**"
   ]
  },
  {
   "cell_type": "code",
   "execution_count": 19,
   "metadata": {},
   "outputs": [
    {
     "data": {
      "text/plain": [
       "0.8382362684688266"
      ]
     },
     "execution_count": 19,
     "metadata": {},
     "output_type": "execute_result"
    }
   ],
   "source": [
    "random_search_1.score(X_test,y_test)"
   ]
  },
  {
   "cell_type": "markdown",
   "metadata": {},
   "source": [
    "The full model we created achieved an accuracy more than 80% for the test set."
   ]
  },
  {
   "cell_type": "markdown",
   "metadata": {},
   "source": [
    "**Confusion Matrix**"
   ]
  },
  {
   "cell_type": "code",
   "execution_count": 32,
   "metadata": {},
   "outputs": [
    {
     "data": {
      "image/png": "[encoded data removed]",
      "text/plain": [
       "<Figure size 432x288 with 2 Axes>"
      ]
     },
     "metadata": {
      "needs_background": "light"
     },
     "output_type": "display_data"
    }
   ],
   "source": [
    "plot_confusion_matrix(random_search_1, X_test, y_test, cmap='Blues', values_format=\"d\");"
   ]
  },
  {
   "cell_type": "markdown",
   "metadata": {},
   "source": [
    "The confusion matrix tells us the the accuracy is relatively high and we have a concentration of data at rating = 2. For example, For all (532 + 10180 + 1175 + 49) data points with true label of rating 2, we predicted 10180 correct, with 85% accuracy for one-vs-all multi-class comparison."
   ]
  },
  {
   "cell_type": "markdown",
   "metadata": {},
   "source": [
    "#### 3.3.2 Alternative Model: using only description as the explanatory variable\n",
    "\n",
    "This model is helpful when the wine only has description available or the business prefer to ease the computational power."
   ]
  },
  {
   "cell_type": "code",
   "execution_count": 21,
   "metadata": {},
   "outputs": [],
   "source": [
    "X_train2 = train_df['description']\n",
    "y_train2 = train_df['rating']\n",
    "X_test2 = test_df['description']\n",
    "y_test2 = test_df['rating']"
   ]
  },
  {
   "cell_type": "markdown",
   "metadata": {},
   "source": [
    "#### Hyperparameter tuning\n",
    "Perform the similar hyperparameter tuning procedure as with the full model.\n",
    "\n",
    "Since we were dealing with text data as feature and categorical data as target, we fit an explanatory model with `CountVectorizer` and `LogisticRegression`."
   ]
  },
  {
   "cell_type": "code",
   "execution_count": 22,
   "metadata": {},
   "outputs": [],
   "source": [
    "param_grid = {\n",
    "    \"countvectorizer__max_features\": randint(10, 10000),\n",
    "    \"logisticregression__C\": loguniform(0.01, 100), \n",
    "}\n",
    "\n",
    "pipe_1 = make_pipeline(CountVectorizer(), LogisticRegression(max_iter=1000, class_weight=\"balanced\"))\n",
    "\n",
    "random_search_2 = RandomizedSearchCV(pipe_1, param_grid, cv=5, verbose=2, return_train_score=True, n_iter=10, n_jobs=-1, scoring='accuracy')"
   ]
  },
  {
   "cell_type": "code",
   "execution_count": 23,
   "metadata": {},
   "outputs": [
    {
     "name": "stdout",
     "output_type": "stream",
     "text": [
      "Fitting 5 folds for each of 10 candidates, totalling 50 fits\n"
     ]
    },
    {
     "name": "stderr",
     "output_type": "stream",
     "text": [
      "[Parallel(n_jobs=-1)]: Using backend LokyBackend with 6 concurrent workers.\n",
      "[Parallel(n_jobs=-1)]: Done  29 tasks      | elapsed:  7.9min\n",
      "[Parallel(n_jobs=-1)]: Done  50 out of  50 | elapsed: 12.5min finished\n"
     ]
    },
    {
     "data": {
      "text/plain": [
       "RandomizedSearchCV(cv=5,\n",
       "                   estimator=Pipeline(steps=[('countvectorizer',\n",
       "                                              CountVectorizer()),\n",
       "                                             ('logisticregression',\n",
       "                                              LogisticRegression(class_weight='balanced',\n",
       "                                                                 max_iter=1000))]),\n",
       "                   n_jobs=-1,\n",
       "                   param_distributions={'countvectorizer__max_features': <scipy.stats._distn_infrastructure.rv_frozen object at 0x000001D246B42340>,\n",
       "                                        'logisticregression__C': <scipy.stats._distn_infrastructure.rv_frozen object at 0x000001D246D7E070>},\n",
       "                   return_train_score=True, scoring='accuracy', verbose=2)"
      ]
     },
     "execution_count": 23,
     "metadata": {},
     "output_type": "execute_result"
    }
   ],
   "source": [
    "random_search_2.fit(X_train2, y_train2)"
   ]
  },
  {
   "cell_type": "code",
   "execution_count": 24,
   "metadata": {},
   "outputs": [
    {
     "data": {
      "text/html": [
       "<div>\n",
       "<style scoped>\n",
       "    .dataframe tbody tr th:only-of-type {\n",
       "        vertical-align: middle;\n",
       "    }\n",
       "\n",
       "    .dataframe tbody tr th {\n",
       "        vertical-align: top;\n",
       "    }\n",
       "\n",
       "    .dataframe thead th {\n",
       "        text-align: right;\n",
       "    }\n",
       "</style>\n",
       "<table border=\"1\" class=\"dataframe\">\n",
       "  <thead>\n",
       "    <tr style=\"text-align: right;\">\n",
       "      <th></th>\n",
       "      <th>mean_fit_time</th>\n",
       "      <th>std_fit_time</th>\n",
       "      <th>mean_score_time</th>\n",
       "      <th>std_score_time</th>\n",
       "      <th>param_countvectorizer__max_features</th>\n",
       "      <th>param_logisticregression__C</th>\n",
       "      <th>params</th>\n",
       "      <th>split0_test_score</th>\n",
       "      <th>split1_test_score</th>\n",
       "      <th>split2_test_score</th>\n",
       "      <th>...</th>\n",
       "      <th>mean_test_score</th>\n",
       "      <th>std_test_score</th>\n",
       "      <th>rank_test_score</th>\n",
       "      <th>split0_train_score</th>\n",
       "      <th>split1_train_score</th>\n",
       "      <th>split2_train_score</th>\n",
       "      <th>split3_train_score</th>\n",
       "      <th>split4_train_score</th>\n",
       "      <th>mean_train_score</th>\n",
       "      <th>std_train_score</th>\n",
       "    </tr>\n",
       "  </thead>\n",
       "  <tbody>\n",
       "    <tr>\n",
       "      <th>0</th>\n",
       "      <td>74.160855</td>\n",
       "      <td>0.626555</td>\n",
       "      <td>0.893800</td>\n",
       "      <td>0.034269</td>\n",
       "      <td>598</td>\n",
       "      <td>84.0247</td>\n",
       "      <td>{'countvectorizer__max_features': 598, 'logisticregression__C': 84.02466669896056}</td>\n",
       "      <td>0.568802</td>\n",
       "      <td>0.569216</td>\n",
       "      <td>0.565365</td>\n",
       "      <td>...</td>\n",
       "      <td>0.568691</td>\n",
       "      <td>0.002673</td>\n",
       "      <td>10</td>\n",
       "      <td>0.583892</td>\n",
       "      <td>0.584368</td>\n",
       "      <td>0.584212</td>\n",
       "      <td>0.581262</td>\n",
       "      <td>0.583119</td>\n",
       "      <td>0.583371</td>\n",
       "      <td>0.001139</td>\n",
       "    </tr>\n",
       "    <tr>\n",
       "      <th>1</th>\n",
       "      <td>73.480701</td>\n",
       "      <td>1.678371</td>\n",
       "      <td>0.940812</td>\n",
       "      <td>0.031481</td>\n",
       "      <td>2892</td>\n",
       "      <td>0.439066</td>\n",
       "      <td>{'countvectorizer__max_features': 2892, 'logisticregression__C': 0.4390661873506015}</td>\n",
       "      <td>0.654189</td>\n",
       "      <td>0.652946</td>\n",
       "      <td>0.653360</td>\n",
       "      <td>...</td>\n",
       "      <td>0.652769</td>\n",
       "      <td>0.001051</td>\n",
       "      <td>8</td>\n",
       "      <td>0.700119</td>\n",
       "      <td>0.701175</td>\n",
       "      <td>0.701413</td>\n",
       "      <td>0.700833</td>\n",
       "      <td>0.699439</td>\n",
       "      <td>0.700596</td>\n",
       "      <td>0.000725</td>\n",
       "    </tr>\n",
       "    <tr>\n",
       "      <th>2</th>\n",
       "      <td>94.530738</td>\n",
       "      <td>2.218063</td>\n",
       "      <td>1.039832</td>\n",
       "      <td>0.095777</td>\n",
       "      <td>8791</td>\n",
       "      <td>5.78106</td>\n",
       "      <td>{'countvectorizer__max_features': 8791, 'logisticregression__C': 5.781056544170589}</td>\n",
       "      <td>0.701354</td>\n",
       "      <td>0.698994</td>\n",
       "      <td>0.696426</td>\n",
       "      <td>...</td>\n",
       "      <td>0.698966</td>\n",
       "      <td>0.001745</td>\n",
       "      <td>2</td>\n",
       "      <td>0.809700</td>\n",
       "      <td>0.811212</td>\n",
       "      <td>0.808199</td>\n",
       "      <td>0.806212</td>\n",
       "      <td>0.806565</td>\n",
       "      <td>0.808378</td>\n",
       "      <td>0.001886</td>\n",
       "    </tr>\n",
       "    <tr>\n",
       "      <th>3</th>\n",
       "      <td>98.151211</td>\n",
       "      <td>2.554523</td>\n",
       "      <td>1.210708</td>\n",
       "      <td>0.213365</td>\n",
       "      <td>8061</td>\n",
       "      <td>0.572464</td>\n",
       "      <td>{'countvectorizer__max_features': 8061, 'logisticregression__C': 0.5724641439026023}</td>\n",
       "      <td>0.684707</td>\n",
       "      <td>0.681270</td>\n",
       "      <td>0.680152</td>\n",
       "      <td>...</td>\n",
       "      <td>0.684175</td>\n",
       "      <td>0.003019</td>\n",
       "      <td>4</td>\n",
       "      <td>0.765878</td>\n",
       "      <td>0.766675</td>\n",
       "      <td>0.764895</td>\n",
       "      <td>0.764574</td>\n",
       "      <td>0.764597</td>\n",
       "      <td>0.765324</td>\n",
       "      <td>0.000826</td>\n",
       "    </tr>\n",
       "    <tr>\n",
       "      <th>4</th>\n",
       "      <td>100.022379</td>\n",
       "      <td>3.198964</td>\n",
       "      <td>1.032048</td>\n",
       "      <td>0.094196</td>\n",
       "      <td>9865</td>\n",
       "      <td>46.7991</td>\n",
       "      <td>{'countvectorizer__max_features': 9865, 'logisticregression__C': 46.79907219064335}</td>\n",
       "      <td>0.705826</td>\n",
       "      <td>0.701188</td>\n",
       "      <td>0.699242</td>\n",
       "      <td>...</td>\n",
       "      <td>0.704002</td>\n",
       "      <td>0.003183</td>\n",
       "      <td>1</td>\n",
       "      <td>0.830126</td>\n",
       "      <td>0.831824</td>\n",
       "      <td>0.828024</td>\n",
       "      <td>0.829235</td>\n",
       "      <td>0.825707</td>\n",
       "      <td>0.828983</td>\n",
       "      <td>0.002054</td>\n",
       "    </tr>\n",
       "    <tr>\n",
       "      <th>5</th>\n",
       "      <td>86.412833</td>\n",
       "      <td>1.425123</td>\n",
       "      <td>0.991024</td>\n",
       "      <td>0.093013</td>\n",
       "      <td>3754</td>\n",
       "      <td>1.21283</td>\n",
       "      <td>{'countvectorizer__max_features': 3754, 'logisticregression__C': 1.2128320693249972}</td>\n",
       "      <td>0.665866</td>\n",
       "      <td>0.661518</td>\n",
       "      <td>0.661311</td>\n",
       "      <td>...</td>\n",
       "      <td>0.663702</td>\n",
       "      <td>0.002173</td>\n",
       "      <td>7</td>\n",
       "      <td>0.725534</td>\n",
       "      <td>0.726528</td>\n",
       "      <td>0.725980</td>\n",
       "      <td>0.724654</td>\n",
       "      <td>0.724699</td>\n",
       "      <td>0.725479</td>\n",
       "      <td>0.000727</td>\n",
       "    </tr>\n",
       "    <tr>\n",
       "      <th>6</th>\n",
       "      <td>79.414214</td>\n",
       "      <td>1.763292</td>\n",
       "      <td>0.924580</td>\n",
       "      <td>0.113827</td>\n",
       "      <td>3841</td>\n",
       "      <td>29.1649</td>\n",
       "      <td>{'countvectorizer__max_features': 3841, 'logisticregression__C': 29.164944712298038}</td>\n",
       "      <td>0.666322</td>\n",
       "      <td>0.664748</td>\n",
       "      <td>0.665618</td>\n",
       "      <td>...</td>\n",
       "      <td>0.666551</td>\n",
       "      <td>0.001671</td>\n",
       "      <td>6</td>\n",
       "      <td>0.734976</td>\n",
       "      <td>0.736601</td>\n",
       "      <td>0.736933</td>\n",
       "      <td>0.733930</td>\n",
       "      <td>0.734109</td>\n",
       "      <td>0.735310</td>\n",
       "      <td>0.001246</td>\n",
       "    </tr>\n",
       "    <tr>\n",
       "      <th>7</th>\n",
       "      <td>24.317531</td>\n",
       "      <td>1.567071</td>\n",
       "      <td>0.985160</td>\n",
       "      <td>0.086368</td>\n",
       "      <td>7168</td>\n",
       "      <td>0.0151365</td>\n",
       "      <td>{'countvectorizer__max_features': 7168, 'logisticregression__C': 0.015136455152833324}</td>\n",
       "      <td>0.625657</td>\n",
       "      <td>0.620067</td>\n",
       "      <td>0.619653</td>\n",
       "      <td>...</td>\n",
       "      <td>0.623021</td>\n",
       "      <td>0.002608</td>\n",
       "      <td>9</td>\n",
       "      <td>0.652363</td>\n",
       "      <td>0.654444</td>\n",
       "      <td>0.655003</td>\n",
       "      <td>0.652156</td>\n",
       "      <td>0.653019</td>\n",
       "      <td>0.653397</td>\n",
       "      <td>0.001134</td>\n",
       "    </tr>\n",
       "    <tr>\n",
       "      <th>8</th>\n",
       "      <td>94.297386</td>\n",
       "      <td>2.346364</td>\n",
       "      <td>1.156060</td>\n",
       "      <td>0.125974</td>\n",
       "      <td>6959</td>\n",
       "      <td>6.94089</td>\n",
       "      <td>{'countvectorizer__max_features': 6959, 'logisticregression__C': 6.940892499055053}</td>\n",
       "      <td>0.692617</td>\n",
       "      <td>0.688103</td>\n",
       "      <td>0.687813</td>\n",
       "      <td>...</td>\n",
       "      <td>0.689906</td>\n",
       "      <td>0.001774</td>\n",
       "      <td>3</td>\n",
       "      <td>0.789171</td>\n",
       "      <td>0.788892</td>\n",
       "      <td>0.786718</td>\n",
       "      <td>0.786231</td>\n",
       "      <td>0.786275</td>\n",
       "      <td>0.787457</td>\n",
       "      <td>0.001300</td>\n",
       "    </tr>\n",
       "    <tr>\n",
       "      <th>9</th>\n",
       "      <td>85.534291</td>\n",
       "      <td>6.336687</td>\n",
       "      <td>0.870198</td>\n",
       "      <td>0.171069</td>\n",
       "      <td>6581</td>\n",
       "      <td>1.1102</td>\n",
       "      <td>{'countvectorizer__max_features': 6581, 'logisticregression__C': 1.1101974918577124}</td>\n",
       "      <td>0.680649</td>\n",
       "      <td>0.681353</td>\n",
       "      <td>0.679407</td>\n",
       "      <td>...</td>\n",
       "      <td>0.681997</td>\n",
       "      <td>0.002354</td>\n",
       "      <td>5</td>\n",
       "      <td>0.764398</td>\n",
       "      <td>0.767317</td>\n",
       "      <td>0.763518</td>\n",
       "      <td>0.763414</td>\n",
       "      <td>0.763303</td>\n",
       "      <td>0.764390</td>\n",
       "      <td>0.001514</td>\n",
       "    </tr>\n",
       "  </tbody>\n",
       "</table>\n",
       "<p>10 rows × 22 columns</p>\n",
       "</div>"
      ],
      "text/plain": [
       "   mean_fit_time  std_fit_time  mean_score_time  std_score_time  \\\n",
       "0      74.160855      0.626555         0.893800        0.034269   \n",
       "1      73.480701      1.678371         0.940812        0.031481   \n",
       "2      94.530738      2.218063         1.039832        0.095777   \n",
       "3      98.151211      2.554523         1.210708        0.213365   \n",
       "4     100.022379      3.198964         1.032048        0.094196   \n",
       "5      86.412833      1.425123         0.991024        0.093013   \n",
       "6      79.414214      1.763292         0.924580        0.113827   \n",
       "7      24.317531      1.567071         0.985160        0.086368   \n",
       "8      94.297386      2.346364         1.156060        0.125974   \n",
       "9      85.534291      6.336687         0.870198        0.171069   \n",
       "\n",
       "  param_countvectorizer__max_features param_logisticregression__C  \\\n",
       "0                                 598                     84.0247   \n",
       "1                                2892                    0.439066   \n",
       "2                                8791                     5.78106   \n",
       "3                                8061                    0.572464   \n",
       "4                                9865                     46.7991   \n",
       "5                                3754                     1.21283   \n",
       "6                                3841                     29.1649   \n",
       "7                                7168                   0.0151365   \n",
       "8                                6959                     6.94089   \n",
       "9                                6581                      1.1102   \n",
       "\n",
       "                                                                                   params  \\\n",
       "0      {'countvectorizer__max_features': 598, 'logisticregression__C': 84.02466669896056}   \n",
       "1    {'countvectorizer__max_features': 2892, 'logisticregression__C': 0.4390661873506015}   \n",
       "2     {'countvectorizer__max_features': 8791, 'logisticregression__C': 5.781056544170589}   \n",
       "3    {'countvectorizer__max_features': 8061, 'logisticregression__C': 0.5724641439026023}   \n",
       "4     {'countvectorizer__max_features': 9865, 'logisticregression__C': 46.79907219064335}   \n",
       "5    {'countvectorizer__max_features': 3754, 'logisticregression__C': 1.2128320693249972}   \n",
       "6    {'countvectorizer__max_features': 3841, 'logisticregression__C': 29.164944712298038}   \n",
       "7  {'countvectorizer__max_features': 7168, 'logisticregression__C': 0.015136455152833324}   \n",
       "8     {'countvectorizer__max_features': 6959, 'logisticregression__C': 6.940892499055053}   \n",
       "9    {'countvectorizer__max_features': 6581, 'logisticregression__C': 1.1101974918577124}   \n",
       "\n",
       "   split0_test_score  split1_test_score  split2_test_score  ...  \\\n",
       "0           0.568802           0.569216           0.565365  ...   \n",
       "1           0.654189           0.652946           0.653360  ...   \n",
       "2           0.701354           0.698994           0.696426  ...   \n",
       "3           0.684707           0.681270           0.680152  ...   \n",
       "4           0.705826           0.701188           0.699242  ...   \n",
       "5           0.665866           0.661518           0.661311  ...   \n",
       "6           0.666322           0.664748           0.665618  ...   \n",
       "7           0.625657           0.620067           0.619653  ...   \n",
       "8           0.692617           0.688103           0.687813  ...   \n",
       "9           0.680649           0.681353           0.679407  ...   \n",
       "\n",
       "   mean_test_score  std_test_score  rank_test_score  split0_train_score  \\\n",
       "0         0.568691        0.002673               10            0.583892   \n",
       "1         0.652769        0.001051                8            0.700119   \n",
       "2         0.698966        0.001745                2            0.809700   \n",
       "3         0.684175        0.003019                4            0.765878   \n",
       "4         0.704002        0.003183                1            0.830126   \n",
       "5         0.663702        0.002173                7            0.725534   \n",
       "6         0.666551        0.001671                6            0.734976   \n",
       "7         0.623021        0.002608                9            0.652363   \n",
       "8         0.689906        0.001774                3            0.789171   \n",
       "9         0.681997        0.002354                5            0.764398   \n",
       "\n",
       "   split1_train_score  split2_train_score  split3_train_score  \\\n",
       "0            0.584368            0.584212            0.581262   \n",
       "1            0.701175            0.701413            0.700833   \n",
       "2            0.811212            0.808199            0.806212   \n",
       "3            0.766675            0.764895            0.764574   \n",
       "4            0.831824            0.828024            0.829235   \n",
       "5            0.726528            0.725980            0.724654   \n",
       "6            0.736601            0.736933            0.733930   \n",
       "7            0.654444            0.655003            0.652156   \n",
       "8            0.788892            0.786718            0.786231   \n",
       "9            0.767317            0.763518            0.763414   \n",
       "\n",
       "   split4_train_score  mean_train_score  std_train_score  \n",
       "0            0.583119          0.583371         0.001139  \n",
       "1            0.699439          0.700596         0.000725  \n",
       "2            0.806565          0.808378         0.001886  \n",
       "3            0.764597          0.765324         0.000826  \n",
       "4            0.825707          0.828983         0.002054  \n",
       "5            0.724699          0.725479         0.000727  \n",
       "6            0.734109          0.735310         0.001246  \n",
       "7            0.653019          0.653397         0.001134  \n",
       "8            0.786275          0.787457         0.001300  \n",
       "9            0.763303          0.764390         0.001514  \n",
       "\n",
       "[10 rows x 22 columns]"
      ]
     },
     "execution_count": 24,
     "metadata": {},
     "output_type": "execute_result"
    }
   ],
   "source": [
    "random_search_2_df = pd.DataFrame(random_search_2.cv_results_)\n",
    "random_search_2_df"
   ]
  },
  {
   "cell_type": "markdown",
   "metadata": {},
   "source": [
    "We can observe that the worst test accuracy at 0.64 is doubling the test accuracy at 0.32 for the baseline dummy classifier."
   ]
  },
  {
   "cell_type": "code",
   "execution_count": 25,
   "metadata": {},
   "outputs": [
    {
     "data": {
      "text/plain": [
       "Pipeline(steps=[('countvectorizer', CountVectorizer(max_features=9865)),\n",
       "                ('logisticregression',\n",
       "                 LogisticRegression(C=46.79907219064335,\n",
       "                                    class_weight='balanced', max_iter=1000))])"
      ]
     },
     "execution_count": 25,
     "metadata": {},
     "output_type": "execute_result"
    }
   ],
   "source": [
    "best_estimator2 = random_search_2.best_estimator_\n",
    "best_estimator2"
   ]
  },
  {
   "cell_type": "markdown",
   "metadata": {},
   "source": [
    "We found the best hyperparameter to be `max_features = 9865` and `C = 46.79907219064335` ."
   ]
  },
  {
   "cell_type": "markdown",
   "metadata": {},
   "source": [
    "#### Most informative words"
   ]
  },
  {
   "cell_type": "code",
   "execution_count": 26,
   "metadata": {},
   "outputs": [
    {
     "data": {
      "text/html": [
       "<div>\n",
       "<style scoped>\n",
       "    .dataframe tbody tr th:only-of-type {\n",
       "        vertical-align: middle;\n",
       "    }\n",
       "\n",
       "    .dataframe tbody tr th {\n",
       "        vertical-align: top;\n",
       "    }\n",
       "\n",
       "    .dataframe thead th {\n",
       "        text-align: right;\n",
       "    }\n",
       "</style>\n",
       "<table border=\"1\" class=\"dataframe\">\n",
       "  <thead>\n",
       "    <tr style=\"text-align: right;\">\n",
       "      <th></th>\n",
       "      <th>words</th>\n",
       "      <th>coefficient</th>\n",
       "    </tr>\n",
       "  </thead>\n",
       "  <tbody>\n",
       "    <tr>\n",
       "      <th>0</th>\n",
       "      <td>000</td>\n",
       "      <td>1.151605</td>\n",
       "    </tr>\n",
       "    <tr>\n",
       "      <th>1</th>\n",
       "      <td>01</td>\n",
       "      <td>-0.380537</td>\n",
       "    </tr>\n",
       "    <tr>\n",
       "      <th>2</th>\n",
       "      <td>02</td>\n",
       "      <td>1.834736</td>\n",
       "    </tr>\n",
       "    <tr>\n",
       "      <th>3</th>\n",
       "      <td>03</td>\n",
       "      <td>-1.618255</td>\n",
       "    </tr>\n",
       "    <tr>\n",
       "      <th>4</th>\n",
       "      <td>04</td>\n",
       "      <td>-1.167048</td>\n",
       "    </tr>\n",
       "    <tr>\n",
       "      <th>...</th>\n",
       "      <td>...</td>\n",
       "      <td>...</td>\n",
       "    </tr>\n",
       "    <tr>\n",
       "      <th>9860</th>\n",
       "      <td>zone</td>\n",
       "      <td>1.802071</td>\n",
       "    </tr>\n",
       "    <tr>\n",
       "      <th>9861</th>\n",
       "      <td>zonin</td>\n",
       "      <td>-0.917275</td>\n",
       "    </tr>\n",
       "    <tr>\n",
       "      <th>9862</th>\n",
       "      <td>zucchini</td>\n",
       "      <td>-1.135872</td>\n",
       "    </tr>\n",
       "    <tr>\n",
       "      <th>9863</th>\n",
       "      <td>zweigelt</td>\n",
       "      <td>1.766960</td>\n",
       "    </tr>\n",
       "    <tr>\n",
       "      <th>9864</th>\n",
       "      <td>émilion</td>\n",
       "      <td>-0.011895</td>\n",
       "    </tr>\n",
       "  </tbody>\n",
       "</table>\n",
       "<p>9865 rows × 2 columns</p>\n",
       "</div>"
      ],
      "text/plain": [
       "         words  coefficient\n",
       "0          000     1.151605\n",
       "1           01    -0.380537\n",
       "2           02     1.834736\n",
       "3           03    -1.618255\n",
       "4           04    -1.167048\n",
       "...        ...          ...\n",
       "9860      zone     1.802071\n",
       "9861     zonin    -0.917275\n",
       "9862  zucchini    -1.135872\n",
       "9863  zweigelt     1.766960\n",
       "9864   émilion    -0.011895\n",
       "\n",
       "[9865 rows x 2 columns]"
      ]
     },
     "execution_count": 26,
     "metadata": {},
     "output_type": "execute_result"
    }
   ],
   "source": [
    "coef_df = pd.DataFrame({'words': best_estimator2[ \"countvectorizer\"].get_feature_names(),\n",
    "              'coefficient': best_estimator2[\"logisticregression\"].coef_[0]})\n",
    "\n",
    "coef_df"
   ]
  },
  {
   "cell_type": "code",
   "execution_count": 27,
   "metadata": {},
   "outputs": [
    {
     "data": {
      "text/html": [
       "<div>\n",
       "<style scoped>\n",
       "    .dataframe tbody tr th:only-of-type {\n",
       "        vertical-align: middle;\n",
       "    }\n",
       "\n",
       "    .dataframe tbody tr th {\n",
       "        vertical-align: top;\n",
       "    }\n",
       "\n",
       "    .dataframe thead th {\n",
       "        text-align: right;\n",
       "    }\n",
       "</style>\n",
       "<table border=\"1\" class=\"dataframe\">\n",
       "  <thead>\n",
       "    <tr style=\"text-align: right;\">\n",
       "      <th></th>\n",
       "      <th>words</th>\n",
       "      <th>coefficient</th>\n",
       "    </tr>\n",
       "  </thead>\n",
       "  <tbody>\n",
       "    <tr>\n",
       "      <th>4847</th>\n",
       "      <td>lebanon</td>\n",
       "      <td>8.154327</td>\n",
       "    </tr>\n",
       "    <tr>\n",
       "      <th>3634</th>\n",
       "      <td>fresia</td>\n",
       "      <td>7.474825</td>\n",
       "    </tr>\n",
       "    <tr>\n",
       "      <th>5583</th>\n",
       "      <td>morande</td>\n",
       "      <td>7.285703</td>\n",
       "    </tr>\n",
       "    <tr>\n",
       "      <th>4611</th>\n",
       "      <td>joining</td>\n",
       "      <td>7.106424</td>\n",
       "    </tr>\n",
       "    <tr>\n",
       "      <th>2208</th>\n",
       "      <td>craving</td>\n",
       "      <td>6.649840</td>\n",
       "    </tr>\n",
       "    <tr>\n",
       "      <th>3806</th>\n",
       "      <td>gilles</td>\n",
       "      <td>6.545482</td>\n",
       "    </tr>\n",
       "    <tr>\n",
       "      <th>773</th>\n",
       "      <td>bardolino</td>\n",
       "      <td>6.125192</td>\n",
       "    </tr>\n",
       "    <tr>\n",
       "      <th>5839</th>\n",
       "      <td>norton</td>\n",
       "      <td>6.107752</td>\n",
       "    </tr>\n",
       "    <tr>\n",
       "      <th>6535</th>\n",
       "      <td>pollen</td>\n",
       "      <td>6.050502</td>\n",
       "    </tr>\n",
       "    <tr>\n",
       "      <th>8737</th>\n",
       "      <td>technology</td>\n",
       "      <td>6.024806</td>\n",
       "    </tr>\n",
       "  </tbody>\n",
       "</table>\n",
       "</div>"
      ],
      "text/plain": [
       "           words  coefficient\n",
       "4847     lebanon     8.154327\n",
       "3634      fresia     7.474825\n",
       "5583     morande     7.285703\n",
       "4611     joining     7.106424\n",
       "2208     craving     6.649840\n",
       "3806      gilles     6.545482\n",
       "773    bardolino     6.125192\n",
       "5839      norton     6.107752\n",
       "6535      pollen     6.050502\n",
       "8737  technology     6.024806"
      ]
     },
     "execution_count": 27,
     "metadata": {},
     "output_type": "execute_result"
    }
   ],
   "source": [
    "# Most informative postive words \n",
    "coef_df.sort_values(by=['coefficient'], ascending=False).head(10)"
   ]
  },
  {
   "cell_type": "code",
   "execution_count": 28,
   "metadata": {},
   "outputs": [
    {
     "data": {
      "text/html": [
       "<div>\n",
       "<style scoped>\n",
       "    .dataframe tbody tr th:only-of-type {\n",
       "        vertical-align: middle;\n",
       "    }\n",
       "\n",
       "    .dataframe tbody tr th {\n",
       "        vertical-align: top;\n",
       "    }\n",
       "\n",
       "    .dataframe thead th {\n",
       "        text-align: right;\n",
       "    }\n",
       "</style>\n",
       "<table border=\"1\" class=\"dataframe\">\n",
       "  <thead>\n",
       "    <tr style=\"text-align: right;\">\n",
       "      <th></th>\n",
       "      <th>words</th>\n",
       "      <th>coefficient</th>\n",
       "    </tr>\n",
       "  </thead>\n",
       "  <tbody>\n",
       "    <tr>\n",
       "      <th>4531</th>\n",
       "      <td>intrude</td>\n",
       "      <td>-7.855150</td>\n",
       "    </tr>\n",
       "    <tr>\n",
       "      <th>2034</th>\n",
       "      <td>consider</td>\n",
       "      <td>-7.218462</td>\n",
       "    </tr>\n",
       "    <tr>\n",
       "      <th>3552</th>\n",
       "      <td>format</td>\n",
       "      <td>-6.955396</td>\n",
       "    </tr>\n",
       "    <tr>\n",
       "      <th>9472</th>\n",
       "      <td>vintner</td>\n",
       "      <td>-6.731507</td>\n",
       "    </tr>\n",
       "    <tr>\n",
       "      <th>9560</th>\n",
       "      <td>warmed</td>\n",
       "      <td>-6.731217</td>\n",
       "    </tr>\n",
       "    <tr>\n",
       "      <th>8432</th>\n",
       "      <td>stylish</td>\n",
       "      <td>-6.587892</td>\n",
       "    </tr>\n",
       "    <tr>\n",
       "      <th>3065</th>\n",
       "      <td>ethnic</td>\n",
       "      <td>-6.445480</td>\n",
       "    </tr>\n",
       "    <tr>\n",
       "      <th>4899</th>\n",
       "      <td>leyda</td>\n",
       "      <td>-6.391644</td>\n",
       "    </tr>\n",
       "    <tr>\n",
       "      <th>9207</th>\n",
       "      <td>underscored</td>\n",
       "      <td>-6.169999</td>\n",
       "    </tr>\n",
       "    <tr>\n",
       "      <th>2446</th>\n",
       "      <td>deliciously</td>\n",
       "      <td>-6.042123</td>\n",
       "    </tr>\n",
       "  </tbody>\n",
       "</table>\n",
       "</div>"
      ],
      "text/plain": [
       "            words  coefficient\n",
       "4531      intrude    -7.855150\n",
       "2034     consider    -7.218462\n",
       "3552       format    -6.955396\n",
       "9472      vintner    -6.731507\n",
       "9560       warmed    -6.731217\n",
       "8432      stylish    -6.587892\n",
       "3065       ethnic    -6.445480\n",
       "4899        leyda    -6.391644\n",
       "9207  underscored    -6.169999\n",
       "2446  deliciously    -6.042123"
      ]
     },
     "execution_count": 28,
     "metadata": {},
     "output_type": "execute_result"
    }
   ],
   "source": [
    "# Most informative negative words\n",
    "coef_df.sort_values(by=['coefficient'], ascending=True).head(10)"
   ]
  },
  {
   "cell_type": "markdown",
   "metadata": {},
   "source": [
    "#### Model accuracy"
   ]
  },
  {
   "cell_type": "code",
   "execution_count": 30,
   "metadata": {},
   "outputs": [
    {
     "data": {
      "text/plain": [
       "0.7148346915788776"
      ]
     },
     "execution_count": 30,
     "metadata": {},
     "output_type": "execute_result"
    }
   ],
   "source": [
    "random_search_2.score(X_test2,y_test2)"
   ]
  },
  {
   "cell_type": "markdown",
   "metadata": {},
   "source": [
    "The explanatory model with only description as label achieved an accuracy of 71% on the test set.\n",
    "\n",
    "#### Confusion matrix"
   ]
  },
  {
   "cell_type": "code",
   "execution_count": 34,
   "metadata": {},
   "outputs": [
    {
     "data": {
      "image/png": "[encoded data removed]",
      "text/plain": [
       "<Figure size 432x288 with 2 Axes>"
      ]
     },
     "metadata": {
      "needs_background": "light"
     },
     "output_type": "display_data"
    }
   ],
   "source": [
    "plot_confusion_matrix(random_search_2, X_test2, y_test2, cmap='Blues');"
   ]
  },
  {
   "cell_type": "markdown",
   "metadata": {},
   "source": [
    "The confusion matrix tells us the the accuracy is relatively high and we have a concentration of data at rating = 2. For example, For all (1252 + 8583 + 1927 + 170 + 4) data points with true label of rating 2, we predicted 8583 correct, with 71% accuracy for one-vs-all multi-class comparison."
   ]
  },
  {
   "cell_type": "markdown",
   "metadata": {},
   "source": [
    "### 3.4 Model Comparison and Selection"
   ]
  },
  {
   "cell_type": "markdown",
   "metadata": {},
   "source": [
    "We want to know if Naive Bayes classification would produce a better result, as Logistic Regression and Naive Bayes are two algorithms that generalizes well on high dimensional data yet efficient. Problem with Naive Bayes is it doesn't have the interpretable power that Logic Regression has."
   ]
  },
  {
   "cell_type": "code",
   "execution_count": 35,
   "metadata": {},
   "outputs": [],
   "source": [
    "def get_randomcv(classifier, param_grid):\n",
    "    pipe = make_pipeline(preprocessor, classifier)\n",
    "    return RandomizedSearchCV(pipe, param_grid, cv=5, verbose=2, return_train_score=True, n_iter=1, n_jobs=-1, scoring='accuracy')"
   ]
  },
  {
   "cell_type": "code",
   "execution_count": 36,
   "metadata": {},
   "outputs": [],
   "source": [
    "def get_result(result):\n",
    "    print(result.best_estimator_)\n",
    "    print(result.score(X_test,y_test))\n",
    "    plot_confusion_matrix(result, X_test, y_test, cmap='Blues')\n",
    "    plt.show();"
   ]
  },
  {
   "cell_type": "markdown",
   "metadata": {},
   "source": [
    "#### 3.4.1 Predictive Model: Naive Bayes"
   ]
  },
  {
   "cell_type": "code",
   "execution_count": 37,
   "metadata": {},
   "outputs": [
    {
     "name": "stdout",
     "output_type": "stream",
     "text": [
      "Fitting 5 folds for each of 1 candidates, totalling 5 fits\n"
     ]
    },
    {
     "name": "stderr",
     "output_type": "stream",
     "text": [
      "[Parallel(n_jobs=-1)]: Using backend LokyBackend with 6 concurrent workers.\n",
      "[Parallel(n_jobs=-1)]: Done   3 out of   5 | elapsed:   10.9s remaining:    7.2s\n",
      "[Parallel(n_jobs=-1)]: Done   5 out of   5 | elapsed:   11.2s finished\n"
     ]
    },
    {
     "data": {
      "text/plain": [
       "RandomizedSearchCV(cv=5,\n",
       "                   estimator=Pipeline(steps=[('columntransformer',\n",
       "                                              ColumnTransformer(transformers=[('pipeline-1',\n",
       "                                                                               Pipeline(steps=[('simpleimputer',\n",
       "                                                                                                SimpleImputer(strategy='median')),\n",
       "                                                                                               ('minmaxscaler',\n",
       "                                                                                                MinMaxScaler())]),\n",
       "                                                                               ['price']),\n",
       "                                                                              ('pipeline-2',\n",
       "                                                                               Pipeline(steps=[('countvectorizer',\n",
       "                                                                                                CountVectorizer())]),\n",
       "                                                                               'description'),\n",
       "                                                                              ('pipeline-3',\n",
       "                                                                               Pipeline(steps=[('simp...\n",
       "                                             ('multinomialnb',\n",
       "                                              MultinomialNB())]),\n",
       "                   n_iter=1, n_jobs=-1,\n",
       "                   param_distributions={'columntransformer__pipeline-2__countvectorizer__max_features': <scipy.stats._distn_infrastructure.rv_frozen object at 0x000001D247731490>,\n",
       "                                        'multinomialnb__alpha': <scipy.stats._distn_infrastructure.rv_frozen object at 0x000001D247360940>},\n",
       "                   return_train_score=True, scoring='accuracy', verbose=2)"
      ]
     },
     "execution_count": 37,
     "metadata": {},
     "output_type": "execute_result"
    }
   ],
   "source": [
    "nb = get_randomcv(MultinomialNB(), {\n",
    "    \"columntransformer__pipeline-2__countvectorizer__max_features\": randint(10, 10000),\n",
    "    \"multinomialnb__alpha\": randint(0, 10),\n",
    "})\n",
    "\n",
    "nb.fit(X_train, y_train)"
   ]
  },
  {
   "cell_type": "code",
   "execution_count": 38,
   "metadata": {},
   "outputs": [
    {
     "name": "stdout",
     "output_type": "stream",
     "text": [
      "Pipeline(steps=[('columntransformer',\n",
      "                 ColumnTransformer(transformers=[('pipeline-1',\n",
      "                                                  Pipeline(steps=[('simpleimputer',\n",
      "                                                                   SimpleImputer(strategy='median')),\n",
      "                                                                  ('minmaxscaler',\n",
      "                                                                   MinMaxScaler())]),\n",
      "                                                  ['price']),\n",
      "                                                 ('pipeline-2',\n",
      "                                                  Pipeline(steps=[('countvectorizer',\n",
      "                                                                   CountVectorizer(max_features=4052))]),\n",
      "                                                  'description'),\n",
      "                                                 ('pipeline-3',\n",
      "                                                  Pipeline(steps=[('simpleimputer',\n",
      "                                                                   SimpleImputer(fill_value='missing',\n",
      "                                                                                 strategy='constant')),\n",
      "                                                                  ('onehotencoder',\n",
      "                                                                   OneHotEncoder(dtype=<class 'int'>,\n",
      "                                                                                 handle_unknown='ignore'))]),\n",
      "                                                  ['country', 'designation',\n",
      "                                                   'province', 'region_1',\n",
      "                                                   'winery', 'variety'])])),\n",
      "                ('multinomialnb', MultinomialNB(alpha=2))])\n",
      "0.666732922546876\n"
     ]
    },
    {
     "data": {
      "image/png": "[encoded data removed]",
      "text/plain": [
       "<Figure size 432x288 with 2 Axes>"
      ]
     },
     "metadata": {
      "needs_background": "light"
     },
     "output_type": "display_data"
    }
   ],
   "source": [
    "get_result(nb)"
   ]
  },
  {
   "cell_type": "code",
   "execution_count": 39,
   "metadata": {},
   "outputs": [
    {
     "data": {
      "text/plain": [
       "array([[1101, 1329,   60,    6,    0],\n",
       "       [ 235, 9031, 2416,  254,    0],\n",
       "       [  10, 2380, 7605, 1344,    0],\n",
       "       [   0,   98, 1675, 2389,    0],\n",
       "       [   0,    1,   20,  232,    0]], dtype=int64)"
      ]
     },
     "execution_count": 39,
     "metadata": {},
     "output_type": "execute_result"
    }
   ],
   "source": [
    "confusion_matrix(y_test, nb.predict(X_test))"
   ]
  },
  {
   "cell_type": "markdown",
   "metadata": {},
   "source": [
    "The accuracy for Naive Bayes is only at 67%. For the same exmaple for data points with label rating = 2, among all 11936 (235 + 9031 + 2416 + 254) observations, we got 9031 labels right in the one-vs-all paradigm, resulting in an accuracy of 76%, much lower than the Logistic Regression model. "
   ]
  },
  {
   "cell_type": "markdown",
   "metadata": {},
   "source": [
    "As a result, we don't have to make the trade off between model interpretability and its performance. In fact, the Naive Bayes has worse performance than the Logistic Regression model. Thus, the Logistic Regression allows us to identify the rationale behind the model's decision yet achieved a higher score than the Naive Bayes model."
   ]
  },
  {
   "cell_type": "markdown",
   "metadata": {},
   "source": [
    "## 4. Results\n",
    "\n",
    "As the result of our analysis, we have provided the `coefficients.csv` file that can be opened with Microsoft Excel. This file contains the **8858** most common words from reviews and each word has a coefficient associated. The coefficients, ranging from `-1` to `+1`, represent the sentimental intensity the words convey. With `-1` means the most negative review and `+1` the most positive review. In our anaysis above, we have identified the top 10 most positive words and the 10 most negative words, exampled by `Hudson` and `Intrude`.\n",
    "\n",
    "We have also developed machine learning models that can predict the rating of that bottle from wine features or simply wine description text. Logistic Regression models produce the highest accuracy scores among our candidate models. We attempted to use two approaches to form the features for Logistic Regression model: one with nearly all the columns in the dataset, and the other with wine description only. \n",
    "\n",
    "The former has an accuracy of **83.8%**, means that our results is trustworthy as it is right more than 3/4 of the times. The predicted ratings from the model could be used to modify the current purchasing lists of the wine chain, sourcing more popular wines but not low-rating wines that are not attractive customers. Moreover, they are also good references for prioritizing wine listings on the company's e-commerce website and picking particular wines for future marketing campaign.\n",
    "\n",
    "The later which predicts directly from wine description still achieved an accuracy of **73%** considering it has significantly less data feed into the model pipeline. This model could be further enhanced by adopting to `Stop Words`, means filtering out common words in English that doesn't provide much value such as `I`, `Me`, `The` etc. We are expecting to see an increase in accuracy if we use this technology. We can also develop a graphical user interface for the liquor store business owner, which anyone can type the reviews in a textbox and click a button to see the predicted rating."
   ]
  },
  {
   "cell_type": "markdown",
   "metadata": {},
   "source": [
    "## Appendix\n",
    "\n",
    "### Dataset Identification\n",
    "\n",
    "To complete this project, we obtained a dataset called Wine Reviews from Kaggle. \n",
    "\n",
    "\n",
    "**Wine Reviews Dataset**\n",
    "- URL: https://www.kaggle.com/zynicide/wine-reviews\n",
    "- Publication Date: 2017-11-27\n",
    "- Publisher: zackthoutt\n",
    "- Language: English\n",
    "- Data Version: 4.0\n",
    "- Access Date: 2021-05-19"
   ]
  },
  {
   "cell_type": "markdown",
   "metadata": {},
   "source": [
    "### Pandas Profiling"
   ]
  },
  {
   "cell_type": "code",
   "execution_count": null,
   "metadata": {},
   "outputs": [],
   "source": [
    "profile = ProfileReport(wine_df)\n",
    "profile"
   ]
  },
  {
   "cell_type": "markdown",
   "metadata": {},
   "source": [
    "### Auto viz profiling"
   ]
  },
  {
   "cell_type": "code",
   "execution_count": null,
   "metadata": {},
   "outputs": [],
   "source": [
    "AV = AutoViz_Class()\n",
    "\n",
    "#dft = AV.AutoViz(filename = “ ”, sep= ‘,’ , depVar=’rating’, dfte= wine_df, header=0, verbose=2, lowess=False, chart_format=”svg”)\n",
    "\n",
    "df = AV.AutoViz(filename=\"\",sep=',', depVar='Adj Close', dfte=wine_df, header=0, verbose=1, \n",
    "                 lowess=False, chart_format='svg', max_rows_analyzed=150000, max_cols_analyzed=20)"
   ]
  },
  {
   "cell_type": "markdown",
   "metadata": {},
   "source": [
    "### Export the most informative words in description as a CSV file"
   ]
  },
  {
   "cell_type": "code",
   "execution_count": null,
   "metadata": {},
   "outputs": [],
   "source": [
    "pipe_2 = make_pipeline(CountVectorizer(max_features=8858), LogisticRegression(max_iter=1000, class_weight=\"balanced\", C = 42.52533247431093))\n",
    "pipe_2.fit(X_train2, y_train2)"
   ]
  },
  {
   "cell_type": "code",
   "execution_count": null,
   "metadata": {},
   "outputs": [],
   "source": [
    "coef_df = pd.DataFrame({'words': pipe_2[ \"countvectorizer\"].get_feature_names(),\n",
    "              'coefficient': pipe_2[\"logisticregression\"].coef_[0]})"
   ]
  },
  {
   "cell_type": "code",
   "execution_count": null,
   "metadata": {},
   "outputs": [],
   "source": [
    "coef_df.to_csv('coefficients.csv')"
   ]
  }
 ],
 "metadata": {
  "kernelspec": {
   "display_name": "Python 3",
   "language": "python",
   "name": "python3"
  },
  "language_info": {
   "codemirror_mode": {
    "name": "ipython",
    "version": 3
   },
   "file_extension": ".py",
   "mimetype": "text/x-python",
   "name": "python",
   "nbconvert_exporter": "python",
   "pygments_lexer": "ipython3",
   "version": "3.8.8"
  }
 },
 "nbformat": 4,
 "nbformat_minor": 4
}
